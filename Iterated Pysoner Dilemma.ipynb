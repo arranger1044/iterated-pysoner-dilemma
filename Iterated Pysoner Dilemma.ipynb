{
 "cells": [
  {
   "cell_type": "markdown",
   "metadata": {},
   "source": [
    "#Simulating EES with the Iterated Prisoner's Dilemma\n",
    "This work..."
   ]
  },
  {
   "cell_type": "markdown",
   "metadata": {},
   "source": [
    "## Requirements\n",
    "PlantUML for showing uml diagrams"
   ]
  },
  {
   "cell_type": "code",
   "execution_count": 16,
   "metadata": {
    "collapsed": false
   },
   "outputs": [
    {
     "name": "stdout",
     "output_type": "stream",
     "text": [
      "Installed plantuml_magics.py. To use it, type:\n",
      "  %load_ext plantuml_magics\n",
      "The plantuml_magics extension is already loaded. To reload it, use:\n",
      "  %reload_ext plantuml_magics\n"
     ]
    },
    {
     "data": {
      "text/plain": [
       "['./plantuml.jar']"
      ]
     },
     "execution_count": 16,
     "metadata": {},
     "output_type": "execute_result"
    }
   ],
   "source": [
    "# PlantUML setup\n",
    "%install_ext https://gist.githubusercontent.com/sberke/7360a4b7aa79aefccbb0/raw/f19a8910c847421977daa7a8c893bb7d77aa78b5/plantuml_magics.py\n",
    "%load_ext plantuml_magics\n",
    "\n",
    "import glob\n",
    "glob.glob(r'./*.jar')"
   ]
  },
  {
   "cell_type": "code",
   "execution_count": 50,
   "metadata": {
    "collapsed": true
   },
   "outputs": [],
   "source": [
    "import numpy\n",
    "import pandas\n",
    "\n",
    "from abc import ABCMeta\n",
    "from abc import abstractmethod\n"
   ]
  },
  {
   "cell_type": "code",
   "execution_count": 6,
   "metadata": {
    "collapsed": true
   },
   "outputs": [],
   "source": [
    "from IPython.display import display, HTML"
   ]
  },
  {
   "cell_type": "markdown",
   "metadata": {},
   "source": [
    "## Prisoner's Dilemma\n",
    "\n",
    "What is the _**Prisoner's Dilemma**_ (**PD**)\n",
    " <table style=\"width:200px\">\n",
    "  <tr>\n",
    "    <td></td>\n",
    "    <td><strong>C</strong></td>\n",
    "    <td><strong>D</strong></td>\n",
    "  </tr>\n",
    "  <tr>\n",
    "    <td><strong>C</strong></td>\n",
    "    <td><em>R,R</em></td>\n",
    "    <td><em>S,T</em></td>\n",
    "  </tr>\n",
    "  <tr>\n",
    "    <td><strong>D</strong></td>\n",
    "    <td><em>T,S</em></td>\n",
    "    <td><em>P,P</em></td>\n",
    "  </tr>\n",
    "</table> "
   ]
  },
  {
   "cell_type": "markdown",
   "metadata": {},
   "source": [
    "##Iterated Prisoner's Dilemma\n",
    "What is the _**Iterated Prisoner's Dilemma**_ (IPD)"
   ]
  },
  {
   "cell_type": "markdown",
   "metadata": {},
   "source": [
    "###Axelrod's 1979 tournament\n"
   ]
  },
  {
   "cell_type": "markdown",
   "metadata": {
    "collapsed": false
   },
   "source": [
    "###Axelrod's 1982 tournament"
   ]
  },
  {
   "cell_type": "markdown",
   "metadata": {},
   "source": [
    "##Modeling"
   ]
  },
  {
   "cell_type": "code",
   "execution_count": 40,
   "metadata": {
    "collapsed": false
   },
   "outputs": [
    {
     "data": {
      "image/svg+xml": [
       "<svg height=\"461px\" style=\"width:246px;height:461px;\" version=\"1.1\" viewBox=\"0 0 246 461\" width=\"246px\" xmlns=\"http://www.w3.org/2000/svg\" xmlns:xlink=\"http://www.w3.org/1999/xlink\"><defs><filter height=\"300%\" id=\"f1\" width=\"300%\" x=\"-1\" y=\"-1\"><feGaussianBlur result=\"blurOut\" stdDeviation=\"2.0\"/><feColorMatrix in=\"blurOut\" result=\"blurOut2\" type=\"matrix\" values=\"0 0 0 0 0 0 0 0 0 0 0 0 0 0 0 0 0 0 .4 0\"/><feOffset dx=\"4.0\" dy=\"4.0\" in=\"blurOut2\" result=\"blurOut3\"/><feBlend in=\"SourceGraphic\" in2=\"blurOut3\" mode=\"normal\"/></filter></defs><g><rect fill=\"#FEFECE\" filter=\"url(#f1)\" height=\"99.2188\" style=\"stroke: #A80036; stroke-width: 1.5;\" width=\"110\" x=\"93.25\" y=\"8.5\"/><ellipse cx=\"117.25\" cy=\"24.5\" fill=\"#ADD1B2\" rx=\"11\" ry=\"11\" style=\"stroke: #A80036; stroke-width: 1.0;\"/><path d=\"M120.2188,30.1406 Q119.6406,30.4375 119,30.5859 Q118.3594,30.7344 117.6563,30.7344 Q115.1563,30.7344 113.8359,29.0859 Q112.5156,27.4375 112.5156,24.3125 Q112.5156,21.1875 113.8359,19.5313 Q115.1563,17.875 117.6563,17.875 Q118.3594,17.875 119.0078,18.0313 Q119.6563,18.1875 120.2188,18.4844 L120.2188,21.2031 Q119.5938,20.625 119,20.3516 Q118.4063,20.0781 117.7813,20.0781 Q116.4375,20.0781 115.75,21.1484 Q115.0625,22.2188 115.0625,24.3125 Q115.0625,26.4063 115.75,27.4766 Q116.4375,28.5469 117.7813,28.5469 Q118.4063,28.5469 119,28.2734 Q119.5938,28 120.2188,27.4219 L120.2188,30.1406 Z \"/><text fill=\"#000000\" font-family=\"sans-serif\" font-size=\"12\" lengthAdjust=\"spacingAndGlyphs\" textLength=\"58\" x=\"133.25\" y=\"28.6543\">IPDPlayer</text><line style=\"stroke: #A80036; stroke-width: 1.5;\" x1=\"94.25\" x2=\"202.25\" y1=\"40.5\" y2=\"40.5\"/><ellipse cx=\"104.25\" cy=\"52.4023\" fill=\"none\" rx=\"3\" ry=\"3\" style=\"stroke: #038048; stroke-width: 1.0;\"/><text fill=\"#000000\" font-family=\"sans-serif\" font-size=\"11\" lengthAdjust=\"spacingAndGlyphs\" textLength=\"10\" x=\"113.25\" y=\"54.7104\">id</text><rect fill=\"none\" height=\"6\" style=\"stroke: #C82930; stroke-width: 1.0;\" width=\"6\" x=\"101.25\" y=\"62.207\"/><text fill=\"#000000\" font-family=\"sans-serif\" font-size=\"11\" lengthAdjust=\"spacingAndGlyphs\" textLength=\"30\" x=\"113.25\" y=\"67.5151\">_type</text><rect fill=\"none\" height=\"6\" style=\"stroke: #C82930; stroke-width: 1.0;\" width=\"6\" x=\"101.25\" y=\"75.0117\"/><text fill=\"#000000\" font-family=\"sans-serif\" font-size=\"11\" lengthAdjust=\"spacingAndGlyphs\" textLength=\"64\" x=\"113.25\" y=\"80.3198\">_ingame_id</text><line style=\"stroke: #A80036; stroke-width: 1.0;\" x1=\"94.25\" x2=\"202.25\" y1=\"86.9141\" y2=\"86.9141\"/><ellipse cx=\"104.25\" cy=\"98.8164\" fill=\"#84BE84\" rx=\"3\" ry=\"3\" style=\"stroke: #038048; stroke-width: 1.0;\"/><text fill=\"#000000\" font-family=\"sans-serif\" font-size=\"11\" lengthAdjust=\"spacingAndGlyphs\" textLength=\"84\" x=\"113.25\" y=\"101.1245\">act(game, iter)</text><rect fill=\"#FEFECE\" filter=\"url(#f1)\" height=\"137.6328\" style=\"stroke: #A80036; stroke-width: 1.5;\" width=\"155\" x=\"6\" y=\"168\"/><ellipse cx=\"51.25\" cy=\"184\" fill=\"#ADD1B2\" rx=\"11\" ry=\"11\" style=\"stroke: #A80036; stroke-width: 1.0;\"/><path d=\"M54.2188,189.6406 Q53.6406,189.9375 53,190.0859 Q52.3594,190.2344 51.6563,190.2344 Q49.1563,190.2344 47.8359,188.5859 Q46.5156,186.9375 46.5156,183.8125 Q46.5156,180.6875 47.8359,179.0313 Q49.1563,177.375 51.6563,177.375 Q52.3594,177.375 53.0078,177.5313 Q53.6563,177.6875 54.2188,177.9844 L54.2188,180.7031 Q53.5938,180.125 53,179.8516 Q52.4063,179.5781 51.7813,179.5781 Q50.4375,179.5781 49.75,180.6484 Q49.0625,181.7188 49.0625,183.8125 Q49.0625,185.9063 49.75,186.9766 Q50.4375,188.0469 51.7813,188.0469 Q52.4063,188.0469 53,187.7734 Q53.5938,187.5 54.2188,186.9219 L54.2188,189.6406 Z \"/><text fill=\"#000000\" font-family=\"sans-serif\" font-size=\"12\" lengthAdjust=\"spacingAndGlyphs\" textLength=\"56\" x=\"71.75\" y=\"188.1543\">IPDGame</text><line style=\"stroke: #A80036; stroke-width: 1.5;\" x1=\"7\" x2=\"160\" y1=\"200\" y2=\"200\"/><rect fill=\"none\" height=\"6\" style=\"stroke: #C82930; stroke-width: 1.0;\" width=\"6\" x=\"14\" y=\"208.9023\"/><text fill=\"#000000\" font-family=\"sans-serif\" font-size=\"11\" lengthAdjust=\"spacingAndGlyphs\" textLength=\"48\" x=\"26\" y=\"214.2104\">_payoffs</text><rect fill=\"none\" height=\"6\" style=\"stroke: #C82930; stroke-width: 1.0;\" width=\"6\" x=\"14\" y=\"221.707\"/><text fill=\"#000000\" font-family=\"sans-serif\" font-size=\"11\" lengthAdjust=\"spacingAndGlyphs\" textLength=\"48\" x=\"26\" y=\"227.0151\">_players</text><ellipse cx=\"17\" cy=\"237.5117\" fill=\"none\" rx=\"3\" ry=\"3\" style=\"stroke: #038048; stroke-width: 1.0;\"/><text fill=\"#000000\" font-family=\"sans-serif\" font-size=\"11\" lengthAdjust=\"spacingAndGlyphs\" textLength=\"41\" x=\"26\" y=\"239.8198\">actions</text><ellipse cx=\"17\" cy=\"250.3164\" fill=\"none\" rx=\"3\" ry=\"3\" style=\"stroke: #038048; stroke-width: 1.0;\"/><text fill=\"#000000\" font-family=\"sans-serif\" font-size=\"11\" lengthAdjust=\"spacingAndGlyphs\" textLength=\"47\" x=\"26\" y=\"252.6245\">rewards</text><line style=\"stroke: #A80036; stroke-width: 1.0;\" x1=\"7\" x2=\"160\" y1=\"259.2188\" y2=\"259.2188\"/><ellipse cx=\"17\" cy=\"271.1211\" fill=\"#84BE84\" rx=\"3\" ry=\"3\" style=\"stroke: #038048; stroke-width: 1.0;\"/><text fill=\"#000000\" font-family=\"sans-serif\" font-size=\"11\" lengthAdjust=\"spacingAndGlyphs\" textLength=\"50\" x=\"26\" y=\"273.4292\">payoffs()</text><ellipse cx=\"17\" cy=\"283.9258\" fill=\"#84BE84\" rx=\"3\" ry=\"3\" style=\"stroke: #038048; stroke-width: 1.0;\"/><text fill=\"#000000\" font-family=\"sans-serif\" font-size=\"11\" lengthAdjust=\"spacingAndGlyphs\" textLength=\"129\" x=\"26\" y=\"286.2339\">get_actions(start, end)</text><ellipse cx=\"17\" cy=\"296.7305\" fill=\"#84BE84\" rx=\"3\" ry=\"3\" style=\"stroke: #038048; stroke-width: 1.0;\"/><text fill=\"#000000\" font-family=\"sans-serif\" font-size=\"11\" lengthAdjust=\"spacingAndGlyphs\" textLength=\"83\" x=\"26\" y=\"299.0386\">simulate(iters)</text><rect fill=\"#FEFECE\" filter=\"url(#f1)\" height=\"86.4141\" style=\"stroke: #A80036; stroke-width: 1.5;\" width=\"178\" x=\"59.75\" y=\"366\"/><ellipse cx=\"74.75\" cy=\"382\" fill=\"#ADD1B2\" rx=\"11\" ry=\"11\" style=\"stroke: #A80036; stroke-width: 1.0;\"/><path d=\"M77.7188,387.6406 Q77.1406,387.9375 76.5,388.0859 Q75.8594,388.2344 75.1563,388.2344 Q72.6563,388.2344 71.3359,386.5859 Q70.0156,384.9375 70.0156,381.8125 Q70.0156,378.6875 71.3359,377.0313 Q72.6563,375.375 75.1563,375.375 Q75.8594,375.375 76.5078,375.5313 Q77.1563,375.6875 77.7188,375.9844 L77.7188,378.7031 Q77.0938,378.125 76.5,377.8516 Q75.9063,377.5781 75.2813,377.5781 Q73.9375,377.5781 73.25,378.6484 Q72.5625,379.7188 72.5625,381.8125 Q72.5625,383.9063 73.25,384.9766 Q73.9375,386.0469 75.2813,386.0469 Q75.9063,386.0469 76.5,385.7734 Q77.0938,385.5 77.7188,384.9219 L77.7188,387.6406 Z \"/><text fill=\"#000000\" font-family=\"sans-serif\" font-size=\"12\" lengthAdjust=\"spacingAndGlyphs\" textLength=\"146\" x=\"88.75\" y=\"386.1543\">IPDPairwiseCompetition</text><line style=\"stroke: #A80036; stroke-width: 1.5;\" x1=\"60.75\" x2=\"236.75\" y1=\"398\" y2=\"398\"/><rect fill=\"none\" height=\"6\" style=\"stroke: #C82930; stroke-width: 1.0;\" width=\"6\" x=\"67.75\" y=\"406.9023\"/><text fill=\"#000000\" font-family=\"sans-serif\" font-size=\"11\" lengthAdjust=\"spacingAndGlyphs\" textLength=\"48\" x=\"79.75\" y=\"412.2104\">_payoffs</text><rect fill=\"none\" height=\"6\" style=\"stroke: #C82930; stroke-width: 1.0;\" width=\"6\" x=\"67.75\" y=\"419.707\"/><text fill=\"#000000\" font-family=\"sans-serif\" font-size=\"11\" lengthAdjust=\"spacingAndGlyphs\" textLength=\"48\" x=\"79.75\" y=\"425.0151\">_players</text><line style=\"stroke: #A80036; stroke-width: 1.0;\" x1=\"60.75\" x2=\"236.75\" y1=\"431.6094\" y2=\"431.6094\"/><ellipse cx=\"70.75\" cy=\"443.5117\" fill=\"#84BE84\" rx=\"3\" ry=\"3\" style=\"stroke: #038048; stroke-width: 1.0;\"/><text fill=\"#000000\" font-family=\"sans-serif\" font-size=\"11\" lengthAdjust=\"spacingAndGlyphs\" textLength=\"83\" x=\"79.75\" y=\"445.8198\">simulate(iters)</text><path d=\"M125.716,120.363 C120.095,135.667 114.035,152.171 108.301,167.784 \" fill=\"none\" style=\"stroke: #A80036; stroke-width: 1.0;\"/><polygon fill=\"#A80036\" points=\"130.316,107.835,124.4928,112.0883,126.1792,119.0994,132.0024,114.8461,130.316,107.835\" style=\"stroke: #A80036; stroke-width: 1.0;\"/><text fill=\"#000000\" font-family=\"sans-serif\" font-size=\"13\" lengthAdjust=\"spacingAndGlyphs\" textLength=\"8\" x=\"118.0909\" y=\"127.9586\">2</text><text fill=\"#000000\" font-family=\"sans-serif\" font-size=\"13\" lengthAdjust=\"spacingAndGlyphs\" textLength=\"23\" x=\"85.3968\" y=\"156.9516\">1..*</text><path d=\"M109.313,306.166 C117.013,326.303 125.215,347.754 132.095,365.7489 \" fill=\"none\" style=\"stroke: #A80036; stroke-width: 1.0;\"/><text fill=\"#000000\" font-family=\"sans-serif\" font-size=\"13\" lengthAdjust=\"spacingAndGlyphs\" textLength=\"23\" x=\"86.624\" y=\"325.8043\">1..*</text><text fill=\"#000000\" font-family=\"sans-serif\" font-size=\"13\" lengthAdjust=\"spacingAndGlyphs\" textLength=\"8\" x=\"120.1851\" y=\"354.843\">1</text><path d=\"M163.569,365.923 C169.41,347.755 175.356,326.097 178.25,306 C186.992,245.293 186.462,228.781 178.25,168 C176.125,152.272 172.35,135.606 168.178,120.162 \" fill=\"none\" style=\"stroke: #A80036; stroke-width: 1.0;\"/><polygon fill=\"#A80036\" points=\"164.609,107.525,162.3909,114.3865,167.8715,119.073,170.0896,112.2115,164.609,107.525\" style=\"stroke: #A80036; stroke-width: 1.0;\"/><text fill=\"#000000\" font-family=\"sans-serif\" font-size=\"13\" lengthAdjust=\"spacingAndGlyphs\" textLength=\"23\" x=\"139.8806\" y=\"355.0403\">1..*</text><text fill=\"#000000\" font-family=\"sans-serif\" font-size=\"13\" lengthAdjust=\"spacingAndGlyphs\" textLength=\"23\" x=\"141.1758\" y=\"127.9611\">2..*</text></g></svg>"
      ],
      "text/plain": [
       "<IPython.core.display.SVG object>"
      ]
     },
     "execution_count": 40,
     "metadata": {},
     "output_type": "execute_result"
    }
   ],
   "source": [
    "%%plantuml uml/class-diagram-1\n",
    "\n",
    "@startuml\n",
    "class IPDPlayer{\n",
    "    +id\n",
    "    -_type\n",
    "    -_ingame_id\n",
    "    --\n",
    "    +act(game, iter)\n",
    "}\n",
    "class IPDGame{\n",
    "    -_payoffs\n",
    "    -_players\n",
    "    +actions\n",
    "    +rewards\n",
    "    --\n",
    "    +payoffs()\n",
    "    +get_actions(start, end)\n",
    "    +simulate(iters)\n",
    "}\n",
    "class IPDPairwiseCompetition{\n",
    "    -_payoffs\n",
    "    -_players\n",
    "    --\n",
    "    +simulate(iters)\n",
    "}\n",
    "IPDPlayer \"2\" *-- \"1..*\" IPDGame\n",
    "IPDGame \"1..*\" -- \"1\" IPDPairwiseCompetition\n",
    "IPDPairwiseCompetition \"1..*\" --* \"2..*\" IPDPlayer\n",
    "@enduml "
   ]
  },
  {
   "cell_type": "code",
   "execution_count": 41,
   "metadata": {
    "collapsed": false
   },
   "outputs": [
    {
     "data": {
      "image/svg+xml": [
       "<svg height=\"461px\" style=\"width:638px;height:461px;\" version=\"1.1\" viewBox=\"0 0 638 461\" width=\"638px\" xmlns=\"http://www.w3.org/2000/svg\" xmlns:xlink=\"http://www.w3.org/1999/xlink\"><defs><filter height=\"300%\" id=\"f1\" width=\"300%\" x=\"-1\" y=\"-1\"><feGaussianBlur result=\"blurOut\" stdDeviation=\"2.0\"/><feColorMatrix in=\"blurOut\" result=\"blurOut2\" type=\"matrix\" values=\"0 0 0 0 0 0 0 0 0 0 0 0 0 0 0 0 0 0 .4 0\"/><feOffset dx=\"4.0\" dy=\"4.0\" in=\"blurOut2\" result=\"blurOut3\"/><feBlend in=\"SourceGraphic\" in2=\"blurOut3\" mode=\"normal\"/></filter></defs><g><rect fill=\"#FFFFFF\" filter=\"url(#f1)\" height=\"175.7969\" style=\"stroke: #000000; stroke-width: 2.0;\" width=\"440.5\" x=\"189\" y=\"200.9609\"/><line style=\"stroke: #A80036; stroke-width: 1.0; stroke-dasharray: 5.0,5.0;\" x1=\"98\" x2=\"98\" y1=\"38.2969\" y2=\"422.8906\"/><line style=\"stroke: #A80036; stroke-width: 1.0; stroke-dasharray: 5.0,5.0;\" x1=\"244\" x2=\"244\" y1=\"38.2969\" y2=\"422.8906\"/><line style=\"stroke: #A80036; stroke-width: 1.0; stroke-dasharray: 5.0,5.0;\" x1=\"345\" x2=\"345\" y1=\"38.2969\" y2=\"422.8906\"/><line style=\"stroke: #A80036; stroke-width: 1.0; stroke-dasharray: 5.0,5.0;\" x1=\"480.5\" x2=\"480.5\" y1=\"38.2969\" y2=\"422.8906\"/><rect fill=\"#FEFECE\" filter=\"url(#f1)\" height=\"30.2969\" style=\"stroke: #A80036; stroke-width: 1.5;\" width=\"177\" x=\"8\" y=\"3\"/><text fill=\"#000000\" font-family=\"sans-serif\" font-size=\"14\" lengthAdjust=\"spacingAndGlyphs\" textLength=\"163\" x=\"15\" y=\"22.9951\">IPDPairwiseCompetition</text><rect fill=\"#FEFECE\" filter=\"url(#f1)\" height=\"30.2969\" style=\"stroke: #A80036; stroke-width: 1.5;\" width=\"177\" x=\"8\" y=\"421.8906\"/><text fill=\"#000000\" font-family=\"sans-serif\" font-size=\"14\" lengthAdjust=\"spacingAndGlyphs\" textLength=\"163\" x=\"15\" y=\"441.8857\">IPDPairwiseCompetition</text><rect fill=\"#FEFECE\" filter=\"url(#f1)\" height=\"30.2969\" style=\"stroke: #A80036; stroke-width: 1.5;\" width=\"87\" x=\"199\" y=\"3\"/><text fill=\"#000000\" font-family=\"sans-serif\" font-size=\"14\" lengthAdjust=\"spacingAndGlyphs\" textLength=\"73\" x=\"206\" y=\"22.9951\">IPDPlayer1</text><rect fill=\"#FEFECE\" filter=\"url(#f1)\" height=\"30.2969\" style=\"stroke: #A80036; stroke-width: 1.5;\" width=\"87\" x=\"199\" y=\"421.8906\"/><text fill=\"#000000\" font-family=\"sans-serif\" font-size=\"14\" lengthAdjust=\"spacingAndGlyphs\" textLength=\"73\" x=\"206\" y=\"441.8857\">IPDPlayer1</text><rect fill=\"#FEFECE\" filter=\"url(#f1)\" height=\"30.2969\" style=\"stroke: #A80036; stroke-width: 1.5;\" width=\"87\" x=\"300\" y=\"3\"/><text fill=\"#000000\" font-family=\"sans-serif\" font-size=\"14\" lengthAdjust=\"spacingAndGlyphs\" textLength=\"73\" x=\"307\" y=\"22.9951\">IPDPlayer2</text><rect fill=\"#FEFECE\" filter=\"url(#f1)\" height=\"30.2969\" style=\"stroke: #A80036; stroke-width: 1.5;\" width=\"87\" x=\"300\" y=\"421.8906\"/><text fill=\"#000000\" font-family=\"sans-serif\" font-size=\"14\" lengthAdjust=\"spacingAndGlyphs\" textLength=\"73\" x=\"307\" y=\"441.8857\">IPDPlayer2</text><rect fill=\"#FEFECE\" filter=\"url(#f1)\" height=\"30.2969\" style=\"stroke: #A80036; stroke-width: 1.5;\" width=\"78\" x=\"439.5\" y=\"3\"/><text fill=\"#000000\" font-family=\"sans-serif\" font-size=\"14\" lengthAdjust=\"spacingAndGlyphs\" textLength=\"64\" x=\"446.5\" y=\"22.9951\">IPDGame</text><rect fill=\"#FEFECE\" filter=\"url(#f1)\" height=\"30.2969\" style=\"stroke: #A80036; stroke-width: 1.5;\" width=\"78\" x=\"439.5\" y=\"421.8906\"/><text fill=\"#000000\" font-family=\"sans-serif\" font-size=\"14\" lengthAdjust=\"spacingAndGlyphs\" textLength=\"64\" x=\"446.5\" y=\"441.8857\">IPDGame</text><polygon fill=\"#A80036\" points=\"232.5,65.2969,242.5,69.2969,232.5,73.2969,236.5,69.2969\" style=\"stroke: #A80036; stroke-width: 1.0;\"/><line style=\"stroke: #A80036; stroke-width: 1.0;\" x1=\"98.5\" x2=\"238.5\" y1=\"69.2969\" y2=\"69.2969\"/><text fill=\"#000000\" font-family=\"sans-serif\" font-size=\"13\" lengthAdjust=\"spacingAndGlyphs\" textLength=\"38\" x=\"105.5\" y=\"64.3638\">select</text><polygon fill=\"#A80036\" points=\"333.5,94.4297,343.5,98.4297,333.5,102.4297,337.5,98.4297\" style=\"stroke: #A80036; stroke-width: 1.0;\"/><line style=\"stroke: #A80036; stroke-width: 1.0;\" x1=\"98.5\" x2=\"339.5\" y1=\"98.4297\" y2=\"98.4297\"/><text fill=\"#000000\" font-family=\"sans-serif\" font-size=\"13\" lengthAdjust=\"spacingAndGlyphs\" textLength=\"38\" x=\"105.5\" y=\"93.4966\">select</text><polygon fill=\"#A80036\" points=\"468.5,123.5625,478.5,127.5625,468.5,131.5625,472.5,127.5625\" style=\"stroke: #A80036; stroke-width: 1.0;\"/><line style=\"stroke: #A80036; stroke-width: 1.0;\" x1=\"98.5\" x2=\"474.5\" y1=\"127.5625\" y2=\"127.5625\"/><text fill=\"#000000\" font-family=\"sans-serif\" font-size=\"13\" lengthAdjust=\"spacingAndGlyphs\" text-decoration=\"underline\" textLength=\"19\" x=\"105.5\" y=\"122.6294\">init</text><line style=\"stroke: #000000; stroke-width: 1.0;\" x1=\"105.5\" x2=\"124.5\" y1=\"124.6294\" y2=\"124.6294\"/><text fill=\"#000000\" font-family=\"sans-serif\" font-size=\"13\" lengthAdjust=\"spacingAndGlyphs\" textLength=\"10\" x=\"124.5\" y=\"122.6294\">()</text><polygon fill=\"#A80036\" points=\"255.5,152.6953,245.5,156.6953,255.5,160.6953,251.5,156.6953\" style=\"stroke: #A80036; stroke-width: 1.0;\"/><line style=\"stroke: #A80036; stroke-width: 1.0;\" x1=\"249.5\" x2=\"479.5\" y1=\"156.6953\" y2=\"156.6953\"/><text fill=\"#000000\" font-family=\"sans-serif\" font-size=\"13\" lengthAdjust=\"spacingAndGlyphs\" textLength=\"111\" x=\"261.5\" y=\"151.7622\">set_ingame_id(0)</text><polygon fill=\"#A80036\" points=\"356.5,181.8281,346.5,185.8281,356.5,189.8281,352.5,185.8281\" style=\"stroke: #A80036; stroke-width: 1.0;\"/><line style=\"stroke: #A80036; stroke-width: 1.0;\" x1=\"350.5\" x2=\"479.5\" y1=\"185.8281\" y2=\"185.8281\"/><text fill=\"#000000\" font-family=\"sans-serif\" font-size=\"13\" lengthAdjust=\"spacingAndGlyphs\" textLength=\"111\" x=\"362.5\" y=\"180.895\">set_ingame_id(1)</text><rect fill=\"none\" height=\"175.7969\" style=\"stroke: #000000; stroke-width: 2.0;\" width=\"440.5\" x=\"189\" y=\"200.9609\"/><polygon fill=\"#EEEEEE\" points=\"189,200.9609,266,200.9609,266,207.9609,256,217.9609,189,217.9609,189,200.9609\" style=\"stroke: #000000; stroke-width: 2.0;\"/><text fill=\"#000000\" font-family=\"sans-serif\" font-size=\"13\" font-weight=\"bold\" lengthAdjust=\"spacingAndGlyphs\" textLength=\"32\" x=\"204\" y=\"214.0278\">loop</text><text fill=\"#000000\" font-family=\"sans-serif\" font-size=\"11\" font-weight=\"bold\" lengthAdjust=\"spacingAndGlyphs\" textLength=\"61\" x=\"281\" y=\"213.1714\">[i:n_iters]</text><polygon fill=\"#A80036\" points=\"255.5,235.0938,245.5,239.0938,255.5,243.0938,251.5,239.0938\" style=\"stroke: #A80036; stroke-width: 1.0;\"/><line style=\"stroke: #A80036; stroke-width: 1.0;\" x1=\"249.5\" x2=\"479.5\" y1=\"239.0938\" y2=\"239.0938\"/><text fill=\"#000000\" font-family=\"sans-serif\" font-size=\"13\" lengthAdjust=\"spacingAndGlyphs\" textLength=\"63\" x=\"261.5\" y=\"234.1606\">act(self, i)</text><polygon fill=\"#A80036\" points=\"468.5,264.2266,478.5,268.2266,468.5,272.2266,472.5,268.2266\" style=\"stroke: #A80036; stroke-width: 1.0;\"/><line style=\"stroke: #A80036; stroke-width: 1.0; stroke-dasharray: 2.0,2.0;\" x1=\"244.5\" x2=\"474.5\" y1=\"268.2266\" y2=\"268.2266\"/><text fill=\"#000000\" font-family=\"sans-serif\" font-size=\"13\" lengthAdjust=\"spacingAndGlyphs\" textLength=\"39\" x=\"251.5\" y=\"263.2935\">action</text><polygon fill=\"#A80036\" points=\"356.5,293.3594,346.5,297.3594,356.5,301.3594,352.5,297.3594\" style=\"stroke: #A80036; stroke-width: 1.0;\"/><line style=\"stroke: #A80036; stroke-width: 1.0;\" x1=\"350.5\" x2=\"479.5\" y1=\"297.3594\" y2=\"297.3594\"/><text fill=\"#000000\" font-family=\"sans-serif\" font-size=\"13\" lengthAdjust=\"spacingAndGlyphs\" textLength=\"63\" x=\"362.5\" y=\"292.4263\">act(self, i)</text><polygon fill=\"#A80036\" points=\"468.5,322.4922,478.5,326.4922,468.5,330.4922,472.5,326.4922\" style=\"stroke: #A80036; stroke-width: 1.0;\"/><line style=\"stroke: #A80036; stroke-width: 1.0; stroke-dasharray: 2.0,2.0;\" x1=\"345.5\" x2=\"474.5\" y1=\"326.4922\" y2=\"326.4922\"/><text fill=\"#000000\" font-family=\"sans-serif\" font-size=\"13\" lengthAdjust=\"spacingAndGlyphs\" textLength=\"39\" x=\"352.5\" y=\"321.5591\">action</text><line style=\"stroke: #A80036; stroke-width: 1.0;\" x1=\"480.5\" x2=\"522.5\" y1=\"355.7578\" y2=\"355.7578\"/><line style=\"stroke: #A80036; stroke-width: 1.0;\" x1=\"522.5\" x2=\"522.5\" y1=\"355.7578\" y2=\"368.7578\"/><line style=\"stroke: #A80036; stroke-width: 1.0;\" x1=\"481.5\" x2=\"522.5\" y1=\"368.7578\" y2=\"368.7578\"/><polygon fill=\"#A80036\" points=\"491.5,364.7578,481.5,368.7578,491.5,372.7578,487.5,368.7578\" style=\"stroke: #A80036; stroke-width: 1.0;\"/><text fill=\"#000000\" font-family=\"sans-serif\" font-size=\"13\" lengthAdjust=\"spacingAndGlyphs\" textLength=\"130\" x=\"487.5\" y=\"350.6919\">_get_payoff(actions)</text><polygon fill=\"#A80036\" points=\"109.5,400.7578,99.5,404.7578,109.5,408.7578,105.5,404.7578\" style=\"stroke: #A80036; stroke-width: 1.0;\"/><line style=\"stroke: #A80036; stroke-width: 1.0; stroke-dasharray: 2.0,2.0;\" x1=\"103.5\" x2=\"479.5\" y1=\"404.7578\" y2=\"404.7578\"/><text fill=\"#000000\" font-family=\"sans-serif\" font-size=\"13\" lengthAdjust=\"spacingAndGlyphs\" textLength=\"104\" x=\"115.5\" y=\"399.8247\">actions, rewards</text></g></svg>"
      ],
      "text/plain": [
       "<IPython.core.display.SVG object>"
      ]
     },
     "execution_count": 41,
     "metadata": {},
     "output_type": "execute_result"
    }
   ],
   "source": [
    "%%plantuml uml/sequence-competition\n",
    "\n",
    "@startuml\n",
    "IPDPairwiseCompetition -> IPDPlayer1: select\n",
    "IPDPairwiseCompetition -> IPDPlayer2: select\n",
    "IPDPairwiseCompetition -> IPDGame: __init__()\n",
    "IPDGame -> IPDPlayer1: set_ingame_id(0)\n",
    "IPDGame -> IPDPlayer2: set_ingame_id(1)    \n",
    "    loop i:n_iters\n",
    "        IPDGame -> IPDPlayer1: act(self, i)\n",
    "        IPDPlayer1 --> IPDGame: action\n",
    "        IPDGame -> IPDPlayer2: act(self, i)\n",
    "        IPDPlayer2 --> IPDGame: action\n",
    "        IPDGame -> IPDGame: _get_payoff(actions)\n",
    "    end\n",
    "    IPDGame --> IPDPairwiseCompetition: actions, rewards\n",
    "@enduml "
   ]
  },
  {
   "cell_type": "markdown",
   "metadata": {},
   "source": [
    "##Simulating Player types\n",
    "\n",
    "  +\n"
   ]
  },
  {
   "cell_type": "code",
   "execution_count": null,
   "metadata": {
    "collapsed": true
   },
   "outputs": [],
   "source": [
    "# %load -s IPDGame pd.py\n",
    "class IPDGame(object):\n",
    "\n",
    "    \"\"\"\n",
    "    Representing a two players Iterated Prisoner's Dilemma game (IPD)\n",
    "    \"\"\"\n",
    "\n",
    "    def __init__(self,\n",
    "                 players,\n",
    "                 payoffs,\n",
    "                 obs_noise=0.0):\n",
    "        \"\"\"\n",
    "        WRITEME\n",
    "        \"\"\"\n",
    "        self._payoffs = payoffs\n",
    "        self._players = players\n",
    "        self._n_players = len(players)\n",
    "\n",
    "        #\n",
    "        # noise in payoffs as seen by players\n",
    "        self._noise = obs_noise\n",
    "\n",
    "        #\n",
    "        # a game will have a history of actions and rewards when simulated\n",
    "        self.actions = None\n",
    "        self.rewards = None\n",
    "        #\n",
    "        #\n",
    "\n",
    "    def _gen_noisy_channel(self):\n",
    "        return numpy.random.randn(self._payoffs.shape) * self._noise\n",
    "\n",
    "    def payoffs(self):\n",
    "        \"\"\"\n",
    "        WRITEME\n",
    "        \"\"\"\n",
    "        return self._payoffs  # + self._gen_noisy_channel()\n",
    "\n",
    "    def get_actions(self, iter_start, iter_end):\n",
    "        \"\"\"\n",
    "        Return the actions for the previous iterates\n",
    "        \"\"\"\n",
    "        # print(iter_start, iter_end)\n",
    "        return self.actions[:, iter_start:iter_end]\n",
    "\n",
    "    def _get_payoffs(self, actions):\n",
    "        \"\"\"\n",
    "        Accessing matrix payoffs\n",
    "        \"\"\"\n",
    "        return self._payoffs[[[a] for a in actions]]\n",
    "\n",
    "    @classmethod\n",
    "    def build_payoff_matrix(cls, n_players, n_actions):\n",
    "        \"\"\"\n",
    "        For a 2 players game with 2 actions the matrix\n",
    "        2 x 2 x 2 (n_actions x n_actions x n_players)\n",
    "        \"\"\"\n",
    "        geometry = [n_actions for i in range(n_players)] + [n_players]\n",
    "        return numpy.zeros(geometry)\n",
    "\n",
    "    @classmethod\n",
    "    def repr_action(cls, action):\n",
    "        \"\"\"\n",
    "        0 = 'C' = 'Cooperate'\n",
    "        1 = 'D' = 'Defect'\n",
    "        \"\"\"\n",
    "        action_str = '*'\n",
    "        if action == 0:\n",
    "            action_str = 'C'\n",
    "        elif action == 1:\n",
    "            action_str = 'D'\n",
    "\n",
    "        return action_str\n",
    "\n",
    "    @classmethod\n",
    "    def visualize_actions_text(cls, players, actions, rewards):\n",
    "        \"\"\"\n",
    "        WRITEME\n",
    "        \"\"\"\n",
    "        n_iters = actions.shape[1]\n",
    "        n_players = len(players)\n",
    "\n",
    "        for p in range(n_players):\n",
    "            print('\\n{0}:'.format(players[p]), end=' ')\n",
    "            for i in range(n_iters):\n",
    "                print(IPDGame.repr_action(actions[p, i]), end='')\n",
    "            print('  [{}]'.format(format(rewards[p].sum())), end='')\n",
    "\n",
    "    def simulate(self,\n",
    "                 iters=None,\n",
    "                 printing=False):\n",
    "        \"\"\"\n",
    "        WRITEME\n",
    "        \"\"\"\n",
    "        if iters is None:\n",
    "            iters = self._n_iters\n",
    "\n",
    "        #\n",
    "        # allocating players rewards and actions for the game\n",
    "        self.rewards = numpy.zeros((self._n_players, iters))\n",
    "        self.actions = numpy.zeros((self._n_players, iters), dtype=int)\n",
    "\n",
    "        for i in range(iters):\n",
    "            for p_id, p in enumerate(self._players):\n",
    "                self.actions[p_id, i] = p.act(self, i)\n",
    "                # print('\\t{0}: {1}'.format(p, IPDGameSimulation.repr_action(actions[p.id, i])))\n",
    "            self.rewards[:, i] = self._get_payoffs(self.actions[:, i])\n",
    "            # print(self._game.actions)\n",
    "\n",
    "        #\n",
    "        # printing\n",
    "        if printing:\n",
    "            IPDGame.visualize_actions_text(self._players,\n",
    "                                           self.actions,\n",
    "                                           self.rewards)\n",
    "\n",
    "        return self.actions, self.rewards\n"
   ]
  },
  {
   "cell_type": "code",
   "execution_count": null,
   "metadata": {
    "collapsed": true
   },
   "outputs": [],
   "source": [
    "# %load -s IPDPairwiseCompetition pd.py\n",
    "class IPDPairwiseCompetition(object):\n",
    "\n",
    "    def __init__(self,\n",
    "                 players,\n",
    "                 payoffs,\n",
    "                 n_iters,\n",
    "                 obs_noise=0.0):\n",
    "        \"\"\"\n",
    "        WRITEME\n",
    "        \"\"\"\n",
    "        self._n_iters = n_iters\n",
    "        self._players = players\n",
    "        self._payoffs = payoffs\n",
    "\n",
    "        self._noise = obs_noise\n",
    "        # self.curr_iter = 0\n",
    "        self._eps = 1e-5\n",
    "\n",
    "    def simulate(self, n_iters=None, printing=True):\n",
    "        \"\"\"\n",
    "        WRITEME\n",
    "        \"\"\"\n",
    "\n",
    "        if n_iters is None:\n",
    "            n_iters = self._n_iters\n",
    "\n",
    "        #\n",
    "        # allocating stats matrix\n",
    "        n_players = len(self._players)\n",
    "        n_games = 0\n",
    "        scores = numpy.zeros((n_players, n_players))\n",
    "        #\n",
    "        # an array for #victories, #draws, #losses\n",
    "        victories = numpy.zeros((n_players, 3), dtype=int)\n",
    "        # draws = numpy.zeros(n_players, dtype=int)\n",
    "\n",
    "        for p_1 in range(n_players):\n",
    "\n",
    "            player_1 = self._players[p_1]\n",
    "            player_1.set_ingame_id(0)\n",
    "\n",
    "            #\n",
    "            # not playing against itself\n",
    "            for p_2 in range(p_1 + 1, n_players):\n",
    "\n",
    "                player_2 = self._players[p_2]\n",
    "                player_2.set_ingame_id(1)\n",
    "\n",
    "                n_games += 1\n",
    "                if printing:\n",
    "                    print('\\n\\ngame #{}:'.format(n_games), end='')\n",
    "\n",
    "                #\n",
    "                # create a new 2 player ipd game\n",
    "                game = IPDGame([player_1, player_2],\n",
    "                               self._payoffs,\n",
    "                               self._noise)\n",
    "\n",
    "                #\n",
    "                # collecting stats\n",
    "                actions, rewards = game.simulate(n_iters, printing)\n",
    "                scores[p_1, p_2] = rewards[0, :].sum()\n",
    "                scores[p_2, p_1] = rewards[1, :].sum()\n",
    "\n",
    "                n_draws = (numpy.abs(rewards[0, :] - rewards[1, :]) < self._eps).sum()\n",
    "                p_1_victories = (rewards[0, :] > rewards[1, :]).sum()\n",
    "                p_2_victories = (rewards[0, :] < rewards[1, :]).sum()\n",
    "\n",
    "                victories[p_1, 1] += n_draws\n",
    "                victories[p_2, 1] += n_draws\n",
    "                victories[p_1, 0] += p_1_victories\n",
    "                victories[p_2, 0] += p_2_victories\n",
    "                victories[p_1, 2] += p_2_victories\n",
    "                victories[p_2, 2] += p_1_victories\n",
    "                # else:\n",
    "\n",
    "        if printing:\n",
    "            IPDPairwiseCompetition.visualize_stats_text(self._players,\n",
    "                                                        scores,\n",
    "                                                        victories,\n",
    "                                                        n_iters)\n",
    "\n",
    "        #\n",
    "        # create a pandas dataframe for later reuse\n",
    "        results = IPDPairwiseCompetition.scores_to_frame(self._players, scores, victories)\n",
    "\n",
    "        # print('results')\n",
    "        # print(results)\n",
    "\n",
    "        return results\n",
    "\n",
    "    @classmethod\n",
    "    def scores_to_frame(cls, players, scores, victories):\n",
    "        \"\"\"\n",
    "        WRITEME\n",
    "        \"\"\"\n",
    "        #\n",
    "        # creating columns\n",
    "        ids = [p.id for p in players]\n",
    "        p_types = pandas.Series({p.id: p._type for p in players})\n",
    "        p_scores = pandas.Series(scores.sum(axis=1), index=ids)\n",
    "        p_wins = pandas.Series(victories[:, 0], index=ids)\n",
    "        p_draws = pandas.Series(victories[:, 1], index=ids)\n",
    "        p_losses = pandas.Series(victories[:, 2], index=ids)\n",
    "\n",
    "        #\n",
    "        # composing table\n",
    "        frame = pandas.DataFrame({'types': p_types,\n",
    "                                  'scores': p_scores,\n",
    "                                  'wins': p_wins,\n",
    "                                  'draws': p_draws,\n",
    "                                  'losses': p_losses})\n",
    "\n",
    "        #\n",
    "        # imposing column order\n",
    "        frame = frame[['types', 'scores', 'wins', 'draws', 'losses']]\n",
    "\n",
    "        return frame\n",
    "\n",
    "    @classmethod\n",
    "    def visualize_stats_text(cls, players, scores, victories, n_iters):\n",
    "\n",
    "        n_players = len(players)\n",
    "        assert scores.shape[0] == n_players\n",
    "        assert len(victories) == n_players\n",
    "\n",
    "        print('\\n\\nScore matrix')\n",
    "        print(scores)\n",
    "        print('\\nFinal scores')\n",
    "        print('Player:\\tType:\\tScore:\\t#Wins\\t#Draws\\t#Losses:')\n",
    "        for i, p in enumerate(players):\n",
    "            print('{0}\\t{1}\\t{2:.4f}\\t[{3}\\t{4}\\t{5}]'.format(p.id,\n",
    "                                                              p._type.rjust(5),\n",
    "                                                              scores[i, :].sum() /\n",
    "                                                              (n_players * n_iters),\n",
    "                                                              victories[i, 0],\n",
    "                                                              victories[i, 1],\n",
    "                                                              victories[i, 2]))\n"
   ]
  },
  {
   "cell_type": "code",
   "execution_count": null,
   "metadata": {
    "collapsed": false
   },
   "outputs": [],
   "source": [
    "# %load -s IPDPlayer pd.py\n",
    "class IPDPlayer(metaclass=ABCMeta):\n",
    "\n",
    "    \"\"\"\n",
    "    WRITEME\n",
    "    \"\"\"\n",
    "\n",
    "    id_counter = 0\n",
    "\n",
    "    @classmethod\n",
    "    def reset_id_counter(cls):\n",
    "        \"\"\"\n",
    "        WRITEME\n",
    "        \"\"\"\n",
    "        IPDPlayer.id_counter = 0\n",
    "\n",
    "    def __init__(self,\n",
    "                 player_type):\n",
    "        \"\"\"\n",
    "        WRITEME\n",
    "        \"\"\"\n",
    "        #\n",
    "        # global id\n",
    "        self.id = IPDPlayer.id_counter\n",
    "        IPDPlayer.id_counter += 1\n",
    "\n",
    "        #\n",
    "        # local (game) id (0 or 1)\n",
    "        self._ingame_id = None\n",
    "\n",
    "        self._type = player_type\n",
    "\n",
    "    def set_ingame_id(self, id):\n",
    "        \"\"\"\n",
    "        WRITEME\n",
    "        \"\"\"\n",
    "        self._ingame_id = id\n",
    "\n",
    "    @abstractmethod\n",
    "    def act(self, game, iter):\n",
    "        \"\"\"\n",
    "        WRITEME\n",
    "        \"\"\"\n",
    "\n",
    "    def __repr__(self):\n",
    "        \"\"\"\n",
    "        WRITEME\n",
    "        \"\"\"\n",
    "        type_str = ('({})'.format(self._type)).rjust(6)\n",
    "        return \"player #{0} {1}\".format(str(self.id).ljust(4), type_str)\n"
   ]
  },
  {
   "cell_type": "markdown",
   "metadata": {},
   "source": [
    "###Periodic Players (I)\n",
    "\n",
    "###AllD\n",
    "\n",
    "###AllC"
   ]
  },
  {
   "cell_type": "code",
   "execution_count": 56,
   "metadata": {
    "collapsed": false
   },
   "outputs": [
    {
     "data": {
      "image/svg+xml": [
       "<svg height=\"157px\" style=\"width:530px;height:157px;\" version=\"1.1\" viewBox=\"0 0 530 157\" width=\"530px\" xmlns=\"http://www.w3.org/2000/svg\" xmlns:xlink=\"http://www.w3.org/1999/xlink\"><defs><filter height=\"300%\" id=\"f1\" width=\"300%\" x=\"-1\" y=\"-1\"><feGaussianBlur result=\"blurOut\" stdDeviation=\"2.0\"/><feColorMatrix in=\"blurOut\" result=\"blurOut2\" type=\"matrix\" values=\"0 0 0 0 0 0 0 0 0 0 0 0 0 0 0 0 0 0 .4 0\"/><feOffset dx=\"4.0\" dy=\"4.0\" in=\"blurOut2\" result=\"blurOut3\"/><feBlend in=\"SourceGraphic\" in2=\"blurOut3\" mode=\"normal\"/></filter></defs><g><rect fill=\"#FEFECE\" filter=\"url(#f1)\" height=\"99.2188\" style=\"stroke: #A80036; stroke-width: 1.5;\" width=\"110\" x=\"411\" y=\"49.5\"/><ellipse cx=\"435\" cy=\"65.5\" fill=\"#ADD1B2\" rx=\"11\" ry=\"11\" style=\"stroke: #A80036; stroke-width: 1.0;\"/><path d=\"M437.9688,71.1406 Q437.3906,71.4375 436.75,71.5859 Q436.1094,71.7344 435.4063,71.7344 Q432.9063,71.7344 431.5859,70.0859 Q430.2656,68.4375 430.2656,65.3125 Q430.2656,62.1875 431.5859,60.5313 Q432.9063,58.875 435.4063,58.875 Q436.1094,58.875 436.7578,59.0313 Q437.4063,59.1875 437.9688,59.4844 L437.9688,62.2031 Q437.3438,61.625 436.75,61.3516 Q436.1563,61.0781 435.5313,61.0781 Q434.1875,61.0781 433.5,62.1484 Q432.8125,63.2188 432.8125,65.3125 Q432.8125,67.4063 433.5,68.4766 Q434.1875,69.5469 435.5313,69.5469 Q436.1563,69.5469 436.75,69.2734 Q437.3438,69 437.9688,68.4219 L437.9688,71.1406 Z \"/><text fill=\"#000000\" font-family=\"sans-serif\" font-size=\"12\" lengthAdjust=\"spacingAndGlyphs\" textLength=\"58\" x=\"451\" y=\"69.6543\">IPDPlayer</text><line style=\"stroke: #A80036; stroke-width: 1.5;\" x1=\"412\" x2=\"520\" y1=\"81.5\" y2=\"81.5\"/><ellipse cx=\"422\" cy=\"93.4023\" fill=\"none\" rx=\"3\" ry=\"3\" style=\"stroke: #038048; stroke-width: 1.0;\"/><text fill=\"#000000\" font-family=\"sans-serif\" font-size=\"11\" lengthAdjust=\"spacingAndGlyphs\" textLength=\"10\" x=\"431\" y=\"95.7104\">id</text><rect fill=\"none\" height=\"6\" style=\"stroke: #C82930; stroke-width: 1.0;\" width=\"6\" x=\"419\" y=\"103.207\"/><text fill=\"#000000\" font-family=\"sans-serif\" font-size=\"11\" lengthAdjust=\"spacingAndGlyphs\" textLength=\"30\" x=\"431\" y=\"108.5151\">_type</text><rect fill=\"none\" height=\"6\" style=\"stroke: #C82930; stroke-width: 1.0;\" width=\"6\" x=\"419\" y=\"116.0117\"/><text fill=\"#000000\" font-family=\"sans-serif\" font-size=\"11\" lengthAdjust=\"spacingAndGlyphs\" textLength=\"64\" x=\"431\" y=\"121.3198\">_ingame_id</text><line style=\"stroke: #A80036; stroke-width: 1.0;\" x1=\"412\" x2=\"520\" y1=\"127.9141\" y2=\"127.9141\"/><ellipse cx=\"422\" cy=\"139.8164\" fill=\"#84BE84\" rx=\"3\" ry=\"3\" style=\"stroke: #038048; stroke-width: 1.0;\"/><text fill=\"#000000\" font-family=\"sans-serif\" font-size=\"11\" lengthAdjust=\"spacingAndGlyphs\" textLength=\"84\" x=\"431\" y=\"142.1245\">act(game, iter)</text><rect fill=\"#FEFECE\" filter=\"url(#f1)\" height=\"86.4141\" style=\"stroke: #A80036; stroke-width: 1.5;\" width=\"114\" x=\"262\" y=\"56\"/><ellipse cx=\"286\" cy=\"72\" fill=\"#ADD1B2\" rx=\"11\" ry=\"11\" style=\"stroke: #A80036; stroke-width: 1.0;\"/><path d=\"M288.9688,77.6406 Q288.3906,77.9375 287.75,78.0859 Q287.1094,78.2344 286.4063,78.2344 Q283.9063,78.2344 282.5859,76.5859 Q281.2656,74.9375 281.2656,71.8125 Q281.2656,68.6875 282.5859,67.0313 Q283.9063,65.375 286.4063,65.375 Q287.1094,65.375 287.7578,65.5313 Q288.4063,65.6875 288.9688,65.9844 L288.9688,68.7031 Q288.3438,68.125 287.75,67.8516 Q287.1563,67.5781 286.5313,67.5781 Q285.1875,67.5781 284.5,68.6484 Q283.8125,69.7188 283.8125,71.8125 Q283.8125,73.9063 284.5,74.9766 Q285.1875,76.0469 286.5313,76.0469 Q287.1563,76.0469 287.75,75.7734 Q288.3438,75.5 288.9688,74.9219 L288.9688,77.6406 Z \"/><text fill=\"#000000\" font-family=\"sans-serif\" font-size=\"12\" lengthAdjust=\"spacingAndGlyphs\" textLength=\"62\" x=\"302\" y=\"76.1543\">PERPlayer</text><line style=\"stroke: #A80036; stroke-width: 1.5;\" x1=\"263\" x2=\"375\" y1=\"88\" y2=\"88\"/><rect fill=\"none\" height=\"6\" style=\"stroke: #C82930; stroke-width: 1.0;\" width=\"6\" x=\"270\" y=\"96.9023\"/><text fill=\"#000000\" font-family=\"sans-serif\" font-size=\"11\" lengthAdjust=\"spacingAndGlyphs\" textLength=\"47\" x=\"282\" y=\"102.2104\">_pattern</text><rect fill=\"none\" height=\"6\" style=\"stroke: #C82930; stroke-width: 1.0;\" width=\"6\" x=\"270\" y=\"109.707\"/><text fill=\"#000000\" font-family=\"sans-serif\" font-size=\"11\" lengthAdjust=\"spacingAndGlyphs\" textLength=\"88\" x=\"282\" y=\"115.0151\">_pattern_length</text><rect fill=\"none\" height=\"6\" style=\"stroke: #C82930; stroke-width: 1.0;\" width=\"6\" x=\"270\" y=\"122.5117\"/><text fill=\"#000000\" font-family=\"sans-serif\" font-size=\"11\" lengthAdjust=\"spacingAndGlyphs\" textLength=\"27\" x=\"282\" y=\"127.8198\">_pos</text><line style=\"stroke: #A80036; stroke-width: 1.5;\" x1=\"263\" x2=\"375\" y1=\"134.4141\" y2=\"134.4141\"/><rect fill=\"#FEFECE\" filter=\"url(#f1)\" height=\"48\" style=\"stroke: #A80036; stroke-width: 1.5;\" width=\"92\" x=\"6\" y=\"75\"/><ellipse cx=\"21\" cy=\"91\" fill=\"#ADD1B2\" rx=\"11\" ry=\"11\" style=\"stroke: #A80036; stroke-width: 1.0;\"/><path d=\"M23.9688,96.6406 Q23.3906,96.9375 22.75,97.0859 Q22.1094,97.2344 21.4063,97.2344 Q18.9063,97.2344 17.5859,95.5859 Q16.2656,93.9375 16.2656,90.8125 Q16.2656,87.6875 17.5859,86.0313 Q18.9063,84.375 21.4063,84.375 Q22.1094,84.375 22.7578,84.5313 Q23.4063,84.6875 23.9688,84.9844 L23.9688,87.7031 Q23.3438,87.125 22.75,86.8516 Q22.1563,86.5781 21.5313,86.5781 Q20.1875,86.5781 19.5,87.6484 Q18.8125,88.7188 18.8125,90.8125 Q18.8125,92.9063 19.5,93.9766 Q20.1875,95.0469 21.5313,95.0469 Q22.1563,95.0469 22.75,94.7734 Q23.3438,94.5 23.9688,93.9219 L23.9688,96.6406 Z \"/><text fill=\"#000000\" font-family=\"sans-serif\" font-size=\"12\" lengthAdjust=\"spacingAndGlyphs\" textLength=\"60\" x=\"35\" y=\"95.1543\">AllCPlayer</text><line style=\"stroke: #A80036; stroke-width: 1.5;\" x1=\"7\" x2=\"97\" y1=\"107\" y2=\"107\"/><line style=\"stroke: #A80036; stroke-width: 1.5;\" x1=\"7\" x2=\"97\" y1=\"115\" y2=\"115\"/><rect fill=\"#FEFECE\" filter=\"url(#f1)\" height=\"48\" style=\"stroke: #A80036; stroke-width: 1.5;\" width=\"93\" x=\"133.75\" y=\"75\"/><ellipse cx=\"148.75\" cy=\"91\" fill=\"#ADD1B2\" rx=\"11\" ry=\"11\" style=\"stroke: #A80036; stroke-width: 1.0;\"/><path d=\"M151.7188,96.6406 Q151.1406,96.9375 150.5,97.0859 Q149.8594,97.2344 149.1563,97.2344 Q146.6563,97.2344 145.3359,95.5859 Q144.0156,93.9375 144.0156,90.8125 Q144.0156,87.6875 145.3359,86.0313 Q146.6563,84.375 149.1563,84.375 Q149.8594,84.375 150.5078,84.5313 Q151.1563,84.6875 151.7188,84.9844 L151.7188,87.7031 Q151.0938,87.125 150.5,86.8516 Q149.9063,86.5781 149.2813,86.5781 Q147.9375,86.5781 147.25,87.6484 Q146.5625,88.7188 146.5625,90.8125 Q146.5625,92.9063 147.25,93.9766 Q147.9375,95.0469 149.2813,95.0469 Q149.9063,95.0469 150.5,94.7734 Q151.0938,94.5 151.7188,93.9219 L151.7188,96.6406 Z \"/><text fill=\"#000000\" font-family=\"sans-serif\" font-size=\"12\" lengthAdjust=\"spacingAndGlyphs\" textLength=\"61\" x=\"162.75\" y=\"95.1543\">AllDPlayer</text><line style=\"stroke: #A80036; stroke-width: 1.5;\" x1=\"134.75\" x2=\"225.75\" y1=\"107\" y2=\"107\"/><line style=\"stroke: #A80036; stroke-width: 1.5;\" x1=\"134.75\" x2=\"225.75\" y1=\"115\" y2=\"115\"/><path d=\"M376.135,99 C381.022,99 385.909,99 390.796,99 \" fill=\"none\" style=\"stroke: #A80036; stroke-width: 1.0;\"/><polygon fill=\"none\" points=\"390.887,91.9999,410.887,99,390.887,105.9999,390.887,91.9999\" style=\"stroke: #A80036; stroke-width: 1.0;\"/><path d=\"M68.1882,74.9991 C82.7218,55.785 105.971,30.253 133.5,19 C171.76,3.36 187.766,4.574 226.5,19 C240.589,24.248 253.962,32.713 265.936,42.215 \" fill=\"none\" style=\"stroke: #A80036; stroke-width: 1.0;\"/><polygon fill=\"none\" points=\"270.838,37.201,281.333,55.6094,261.649,47.764,270.838,37.201\" style=\"stroke: #A80036; stroke-width: 1.0;\"/><path d=\"M226.424,99 C231.5,99 236.576,99 241.652,99 \" fill=\"none\" style=\"stroke: #A80036; stroke-width: 1.0;\"/><polygon fill=\"none\" points=\"241.863,91.9999,261.863,99,241.863,105.9999,241.863,91.9999\" style=\"stroke: #A80036; stroke-width: 1.0;\"/></g></svg>"
      ],
      "text/plain": [
       "<IPython.core.display.SVG object>"
      ]
     },
     "execution_count": 56,
     "metadata": {},
     "output_type": "execute_result"
    }
   ],
   "source": [
    "%%plantuml uml/periodic-players-1\n",
    "\n",
    "@startuml\n",
    "class IPDPlayer{\n",
    "    +id\n",
    "    -_type\n",
    "    -_ingame_id\n",
    "    --\n",
    "    +act(game, iter)\n",
    "}\n",
    "class PERPlayer{\n",
    "    -_pattern\n",
    "    -_pattern_length\n",
    "    -_pos\n",
    "}\n",
    "PERPlayer -r-|> IPDPlayer\n",
    "AllCPlayer -r-|> PERPlayer\n",
    "AllDPlayer -r-|> PERPlayer\n",
    "@enduml"
   ]
  },
  {
   "cell_type": "code",
   "execution_count": null,
   "metadata": {
    "collapsed": false
   },
   "outputs": [],
   "source": [
    "# %load -s PERPlayer,AllCPlayer,AllDPlayer pd.py\n",
    "class PERPlayer(IPDPlayer):\n",
    "\n",
    "    \"\"\"\n",
    "    Periodic Player\n",
    "\n",
    "    Plays a single pattern with periodicity\n",
    "    \"\"\"\n",
    "\n",
    "    def __init__(self, pattern, player_name=None):\n",
    "        \"\"\"\n",
    "        Pattern is a binary array\n",
    "        \"\"\"\n",
    "\n",
    "        if player_name is None:\n",
    "            player_name = 'PER'\n",
    "\n",
    "        IPDPlayer.__init__(self, player_name)\n",
    "\n",
    "        self._pattern = pattern\n",
    "        self._pattern_length = len(pattern)\n",
    "        self._pos = 0\n",
    "\n",
    "    def act(self, game, iter):\n",
    "        return self._pattern[iter % self._pattern_length]\n",
    "\n",
    "    def set_ingame_id(self, id):\n",
    "        IPDPlayer.set_ingame_id(self, id)\n",
    "        self._pos = 0\n",
    "\n",
    "class AllCPlayer(PERPlayer):\n",
    "\n",
    "    \"\"\"\n",
    "    A Player that always cooperates\n",
    "    \"\"\"\n",
    "\n",
    "    def __init__(self):\n",
    "        \"\"\"\n",
    "        WRITEME\n",
    "        \"\"\"\n",
    "        allc_pattern = numpy.array([0])\n",
    "        PERPlayer.__init__(self, allc_pattern, 'AllC')\n",
    "\n",
    "    # def act(self, game, iter):\n",
    "    #     \"\"\"\n",
    "    #     Return 'C'\n",
    "    #     \"\"\"\n",
    "    #     return 0\n",
    "\n",
    "class AllDPlayer(PERPlayer):\n",
    "\n",
    "    \"\"\"\n",
    "    A Player that always defects\n",
    "    \"\"\"\n",
    "\n",
    "    def __init__(self):\n",
    "        \"\"\"\n",
    "        WRITEME\n",
    "        \"\"\"\n",
    "        alld_pattern = numpy.array([1])\n",
    "        PERPlayer.__init__(self, alld_pattern, 'AllD')\n",
    "\n",
    "    # def act(self, game, iter):\n",
    "    #     \"\"\"\n",
    "    #     Return 'D'\n",
    "    #     \"\"\"\n",
    "    #     return 1\n"
   ]
  },
  {
   "cell_type": "markdown",
   "metadata": {},
   "source": [
    "###Periodic Players (II)\n",
    "\n",
    "###PDDC\n",
    "\n",
    "###PCCD"
   ]
  },
  {
   "cell_type": "code",
   "execution_count": 57,
   "metadata": {
    "collapsed": false
   },
   "outputs": [
    {
     "data": {
      "image/svg+xml": [
       "<svg height=\"176px\" style=\"width:807px;height:176px;\" version=\"1.1\" viewBox=\"0 0 807 176\" width=\"807px\" xmlns=\"http://www.w3.org/2000/svg\" xmlns:xlink=\"http://www.w3.org/1999/xlink\"><defs><filter height=\"300%\" id=\"f1\" width=\"300%\" x=\"-1\" y=\"-1\"><feGaussianBlur result=\"blurOut\" stdDeviation=\"2.0\"/><feColorMatrix in=\"blurOut\" result=\"blurOut2\" type=\"matrix\" values=\"0 0 0 0 0 0 0 0 0 0 0 0 0 0 0 0 0 0 .4 0\"/><feOffset dx=\"4.0\" dy=\"4.0\" in=\"blurOut2\" result=\"blurOut3\"/><feBlend in=\"SourceGraphic\" in2=\"blurOut3\" mode=\"normal\"/></filter></defs><g><rect fill=\"#FEFECE\" filter=\"url(#f1)\" height=\"99.2188\" style=\"stroke: #A80036; stroke-width: 1.5;\" width=\"110\" x=\"688\" y=\"68.5\"/><ellipse cx=\"712\" cy=\"84.5\" fill=\"#ADD1B2\" rx=\"11\" ry=\"11\" style=\"stroke: #A80036; stroke-width: 1.0;\"/><path d=\"M714.9688,90.1406 Q714.3906,90.4375 713.75,90.5859 Q713.1094,90.7344 712.4063,90.7344 Q709.9063,90.7344 708.5859,89.0859 Q707.2656,87.4375 707.2656,84.3125 Q707.2656,81.1875 708.5859,79.5313 Q709.9063,77.875 712.4063,77.875 Q713.1094,77.875 713.7578,78.0313 Q714.4063,78.1875 714.9688,78.4844 L714.9688,81.2031 Q714.3438,80.625 713.75,80.3516 Q713.1563,80.0781 712.5313,80.0781 Q711.1875,80.0781 710.5,81.1484 Q709.8125,82.2188 709.8125,84.3125 Q709.8125,86.4063 710.5,87.4766 Q711.1875,88.5469 712.5313,88.5469 Q713.1563,88.5469 713.75,88.2734 Q714.3438,88 714.9688,87.4219 L714.9688,90.1406 Z \"/><text fill=\"#000000\" font-family=\"sans-serif\" font-size=\"12\" lengthAdjust=\"spacingAndGlyphs\" textLength=\"58\" x=\"728\" y=\"88.6543\">IPDPlayer</text><line style=\"stroke: #A80036; stroke-width: 1.5;\" x1=\"689\" x2=\"797\" y1=\"100.5\" y2=\"100.5\"/><ellipse cx=\"699\" cy=\"112.4023\" fill=\"none\" rx=\"3\" ry=\"3\" style=\"stroke: #038048; stroke-width: 1.0;\"/><text fill=\"#000000\" font-family=\"sans-serif\" font-size=\"11\" lengthAdjust=\"spacingAndGlyphs\" textLength=\"10\" x=\"708\" y=\"114.7104\">id</text><rect fill=\"none\" height=\"6\" style=\"stroke: #C82930; stroke-width: 1.0;\" width=\"6\" x=\"696\" y=\"122.207\"/><text fill=\"#000000\" font-family=\"sans-serif\" font-size=\"11\" lengthAdjust=\"spacingAndGlyphs\" textLength=\"30\" x=\"708\" y=\"127.5151\">_type</text><rect fill=\"none\" height=\"6\" style=\"stroke: #C82930; stroke-width: 1.0;\" width=\"6\" x=\"696\" y=\"135.0117\"/><text fill=\"#000000\" font-family=\"sans-serif\" font-size=\"11\" lengthAdjust=\"spacingAndGlyphs\" textLength=\"64\" x=\"708\" y=\"140.3198\">_ingame_id</text><line style=\"stroke: #A80036; stroke-width: 1.0;\" x1=\"689\" x2=\"797\" y1=\"146.9141\" y2=\"146.9141\"/><ellipse cx=\"699\" cy=\"158.8164\" fill=\"#84BE84\" rx=\"3\" ry=\"3\" style=\"stroke: #038048; stroke-width: 1.0;\"/><text fill=\"#000000\" font-family=\"sans-serif\" font-size=\"11\" lengthAdjust=\"spacingAndGlyphs\" textLength=\"84\" x=\"708\" y=\"161.1245\">act(game, iter)</text><rect fill=\"#FEFECE\" filter=\"url(#f1)\" height=\"86.4141\" style=\"stroke: #A80036; stroke-width: 1.5;\" width=\"114\" x=\"539\" y=\"75\"/><ellipse cx=\"563\" cy=\"91\" fill=\"#ADD1B2\" rx=\"11\" ry=\"11\" style=\"stroke: #A80036; stroke-width: 1.0;\"/><path d=\"M565.9688,96.6406 Q565.3906,96.9375 564.75,97.0859 Q564.1094,97.2344 563.4063,97.2344 Q560.9063,97.2344 559.5859,95.5859 Q558.2656,93.9375 558.2656,90.8125 Q558.2656,87.6875 559.5859,86.0313 Q560.9063,84.375 563.4063,84.375 Q564.1094,84.375 564.7578,84.5313 Q565.4063,84.6875 565.9688,84.9844 L565.9688,87.7031 Q565.3438,87.125 564.75,86.8516 Q564.1563,86.5781 563.5313,86.5781 Q562.1875,86.5781 561.5,87.6484 Q560.8125,88.7188 560.8125,90.8125 Q560.8125,92.9063 561.5,93.9766 Q562.1875,95.0469 563.5313,95.0469 Q564.1563,95.0469 564.75,94.7734 Q565.3438,94.5 565.9688,93.9219 L565.9688,96.6406 Z \"/><text fill=\"#000000\" font-family=\"sans-serif\" font-size=\"12\" lengthAdjust=\"spacingAndGlyphs\" textLength=\"62\" x=\"579\" y=\"95.1543\">PERPlayer</text><line style=\"stroke: #A80036; stroke-width: 1.5;\" x1=\"540\" x2=\"652\" y1=\"107\" y2=\"107\"/><rect fill=\"none\" height=\"6\" style=\"stroke: #C82930; stroke-width: 1.0;\" width=\"6\" x=\"547\" y=\"115.9023\"/><text fill=\"#000000\" font-family=\"sans-serif\" font-size=\"11\" lengthAdjust=\"spacingAndGlyphs\" textLength=\"47\" x=\"559\" y=\"121.2104\">_pattern</text><rect fill=\"none\" height=\"6\" style=\"stroke: #C82930; stroke-width: 1.0;\" width=\"6\" x=\"547\" y=\"128.707\"/><text fill=\"#000000\" font-family=\"sans-serif\" font-size=\"11\" lengthAdjust=\"spacingAndGlyphs\" textLength=\"88\" x=\"559\" y=\"134.0151\">_pattern_length</text><rect fill=\"none\" height=\"6\" style=\"stroke: #C82930; stroke-width: 1.0;\" width=\"6\" x=\"547\" y=\"141.5117\"/><text fill=\"#000000\" font-family=\"sans-serif\" font-size=\"11\" lengthAdjust=\"spacingAndGlyphs\" textLength=\"27\" x=\"559\" y=\"146.8198\">_pos</text><line style=\"stroke: #A80036; stroke-width: 1.5;\" x1=\"540\" x2=\"652\" y1=\"153.4141\" y2=\"153.4141\"/><rect fill=\"#FEFECE\" filter=\"url(#f1)\" height=\"48\" style=\"stroke: #A80036; stroke-width: 1.5;\" width=\"92\" x=\"6\" y=\"94\"/><ellipse cx=\"21\" cy=\"110\" fill=\"#ADD1B2\" rx=\"11\" ry=\"11\" style=\"stroke: #A80036; stroke-width: 1.0;\"/><path d=\"M23.9688,115.6406 Q23.3906,115.9375 22.75,116.0859 Q22.1094,116.2344 21.4063,116.2344 Q18.9063,116.2344 17.5859,114.5859 Q16.2656,112.9375 16.2656,109.8125 Q16.2656,106.6875 17.5859,105.0313 Q18.9063,103.375 21.4063,103.375 Q22.1094,103.375 22.7578,103.5313 Q23.4063,103.6875 23.9688,103.9844 L23.9688,106.7031 Q23.3438,106.125 22.75,105.8516 Q22.1563,105.5781 21.5313,105.5781 Q20.1875,105.5781 19.5,106.6484 Q18.8125,107.7188 18.8125,109.8125 Q18.8125,111.9063 19.5,112.9766 Q20.1875,114.0469 21.5313,114.0469 Q22.1563,114.0469 22.75,113.7734 Q23.3438,113.5 23.9688,112.9219 L23.9688,115.6406 Z \"/><text fill=\"#000000\" font-family=\"sans-serif\" font-size=\"12\" lengthAdjust=\"spacingAndGlyphs\" textLength=\"60\" x=\"35\" y=\"114.1543\">AllCPlayer</text><line style=\"stroke: #A80036; stroke-width: 1.5;\" x1=\"7\" x2=\"97\" y1=\"126\" y2=\"126\"/><line style=\"stroke: #A80036; stroke-width: 1.5;\" x1=\"7\" x2=\"97\" y1=\"134\" y2=\"134\"/><rect fill=\"#FEFECE\" filter=\"url(#f1)\" height=\"48\" style=\"stroke: #A80036; stroke-width: 1.5;\" width=\"93\" x=\"133.75\" y=\"94\"/><ellipse cx=\"148.75\" cy=\"110\" fill=\"#ADD1B2\" rx=\"11\" ry=\"11\" style=\"stroke: #A80036; stroke-width: 1.0;\"/><path d=\"M151.7188,115.6406 Q151.1406,115.9375 150.5,116.0859 Q149.8594,116.2344 149.1563,116.2344 Q146.6563,116.2344 145.3359,114.5859 Q144.0156,112.9375 144.0156,109.8125 Q144.0156,106.6875 145.3359,105.0313 Q146.6563,103.375 149.1563,103.375 Q149.8594,103.375 150.5078,103.5313 Q151.1563,103.6875 151.7188,103.9844 L151.7188,106.7031 Q151.0938,106.125 150.5,105.8516 Q149.9063,105.5781 149.2813,105.5781 Q147.9375,105.5781 147.25,106.6484 Q146.5625,107.7188 146.5625,109.8125 Q146.5625,111.9063 147.25,112.9766 Q147.9375,114.0469 149.2813,114.0469 Q149.9063,114.0469 150.5,113.7734 Q151.0938,113.5 151.7188,112.9219 L151.7188,115.6406 Z \"/><text fill=\"#000000\" font-family=\"sans-serif\" font-size=\"12\" lengthAdjust=\"spacingAndGlyphs\" textLength=\"61\" x=\"162.75\" y=\"114.1543\">AllDPlayer</text><line style=\"stroke: #A80036; stroke-width: 1.5;\" x1=\"134.75\" x2=\"225.75\" y1=\"126\" y2=\"126\"/><line style=\"stroke: #A80036; stroke-width: 1.5;\" x1=\"134.75\" x2=\"225.75\" y1=\"134\" y2=\"134\"/><rect fill=\"#FEFECE\" filter=\"url(#f1)\" height=\"48\" style=\"stroke: #A80036; stroke-width: 1.5;\" width=\"103\" x=\"261.75\" y=\"94\"/><ellipse cx=\"276.75\" cy=\"110\" fill=\"#ADD1B2\" rx=\"11\" ry=\"11\" style=\"stroke: #A80036; stroke-width: 1.0;\"/><path d=\"M279.7188,115.6406 Q279.1406,115.9375 278.5,116.0859 Q277.8594,116.2344 277.1563,116.2344 Q274.6563,116.2344 273.3359,114.5859 Q272.0156,112.9375 272.0156,109.8125 Q272.0156,106.6875 273.3359,105.0313 Q274.6563,103.375 277.1563,103.375 Q277.8594,103.375 278.5078,103.5313 Q279.1563,103.6875 279.7188,103.9844 L279.7188,106.7031 Q279.0938,106.125 278.5,105.8516 Q277.9063,105.5781 277.2813,105.5781 Q275.9375,105.5781 275.25,106.6484 Q274.5625,107.7188 274.5625,109.8125 Q274.5625,111.9063 275.25,112.9766 Q275.9375,114.0469 277.2813,114.0469 Q277.9063,114.0469 278.5,113.7734 Q279.0938,113.5 279.7188,112.9219 L279.7188,115.6406 Z \"/><text fill=\"#000000\" font-family=\"sans-serif\" font-size=\"12\" lengthAdjust=\"spacingAndGlyphs\" textLength=\"71\" x=\"290.75\" y=\"114.1543\">PCCDPlayer</text><line style=\"stroke: #A80036; stroke-width: 1.5;\" x1=\"262.75\" x2=\"363.75\" y1=\"126\" y2=\"126\"/><line style=\"stroke: #A80036; stroke-width: 1.5;\" x1=\"262.75\" x2=\"363.75\" y1=\"134\" y2=\"134\"/><rect fill=\"#FEFECE\" filter=\"url(#f1)\" height=\"48\" style=\"stroke: #A80036; stroke-width: 1.5;\" width=\"104\" x=\"400\" y=\"94\"/><ellipse cx=\"415\" cy=\"110\" fill=\"#ADD1B2\" rx=\"11\" ry=\"11\" style=\"stroke: #A80036; stroke-width: 1.0;\"/><path d=\"M417.9688,115.6406 Q417.3906,115.9375 416.75,116.0859 Q416.1094,116.2344 415.4063,116.2344 Q412.9063,116.2344 411.5859,114.5859 Q410.2656,112.9375 410.2656,109.8125 Q410.2656,106.6875 411.5859,105.0313 Q412.9063,103.375 415.4063,103.375 Q416.1094,103.375 416.7578,103.5313 Q417.4063,103.6875 417.9688,103.9844 L417.9688,106.7031 Q417.3438,106.125 416.75,105.8516 Q416.1563,105.5781 415.5313,105.5781 Q414.1875,105.5781 413.5,106.6484 Q412.8125,107.7188 412.8125,109.8125 Q412.8125,111.9063 413.5,112.9766 Q414.1875,114.0469 415.5313,114.0469 Q416.1563,114.0469 416.75,113.7734 Q417.3438,113.5 417.9688,112.9219 L417.9688,115.6406 Z \"/><text fill=\"#000000\" font-family=\"sans-serif\" font-size=\"12\" lengthAdjust=\"spacingAndGlyphs\" textLength=\"72\" x=\"429\" y=\"114.1543\">PDDCPlayer</text><line style=\"stroke: #A80036; stroke-width: 1.5;\" x1=\"401\" x2=\"503\" y1=\"126\" y2=\"126\"/><line style=\"stroke: #A80036; stroke-width: 1.5;\" x1=\"401\" x2=\"503\" y1=\"134\" y2=\"134\"/><path d=\"M653.135,118 C658.022,118 662.909,118 667.796,118 \" fill=\"none\" style=\"stroke: #A80036; stroke-width: 1.0;\"/><polygon fill=\"none\" points=\"667.887,110.9999,687.887,118,667.887,124.9999,667.887,110.9999\" style=\"stroke: #A80036; stroke-width: 1.0;\"/><path d=\"M68.1882,93.9991 C82.7218,74.785 105.971,49.253 133.5,38 C209.814,6.804 427.318,9.017 504.5,38 C518.488,43.253 531.739,51.721 543.59,61.223 \" fill=\"none\" style=\"stroke: #A80036; stroke-width: 1.0;\"/><polygon fill=\"none\" points=\"548.425,56.153,558.82,74.6176,539.179,66.666,548.425,56.153\" style=\"stroke: #A80036; stroke-width: 1.0;\"/><path d=\"M196.188,93.9991 C210.722,74.785 233.971,49.253 261.5,38 C361.47,-2.866 403.394,0.033 504.5,38 C518.488,43.253 531.739,51.721 543.59,61.223 \" fill=\"none\" style=\"stroke: #A80036; stroke-width: 1.0;\"/><polygon fill=\"none\" points=\"548.425,56.153,558.82,74.6176,539.179,66.666,548.425,56.153\" style=\"stroke: #A80036; stroke-width: 1.0;\"/><path d=\"M330.778,93.9583 C346.624,74.7194 371.718,49.174 400.5,38 C443.589,21.271 461.228,21.751 504.5,38 C518.488,43.253 531.739,51.721 543.59,61.223 \" fill=\"none\" style=\"stroke: #A80036; stroke-width: 1.0;\"/><polygon fill=\"none\" points=\"548.425,56.153,558.82,74.6176,539.179,66.666,548.425,56.153\" style=\"stroke: #A80036; stroke-width: 1.0;\"/><path d=\"M504.031,118 C508.932,118 513.832,118 518.733,118 \" fill=\"none\" style=\"stroke: #A80036; stroke-width: 1.0;\"/><polygon fill=\"none\" points=\"518.879,110.9999,538.879,118,518.879,124.9999,518.879,110.9999\" style=\"stroke: #A80036; stroke-width: 1.0;\"/></g></svg>"
      ],
      "text/plain": [
       "<IPython.core.display.SVG object>"
      ]
     },
     "execution_count": 57,
     "metadata": {},
     "output_type": "execute_result"
    }
   ],
   "source": [
    "%%plantuml uml/periodic-players-full\n",
    "\n",
    "@startuml\n",
    "class IPDPlayer{\n",
    "    +id\n",
    "    -_type\n",
    "    -_ingame_id\n",
    "    --\n",
    "    +act(game, iter)\n",
    "}\n",
    "class PERPlayer{\n",
    "    -_pattern\n",
    "    -_pattern_length\n",
    "    -_pos\n",
    "}\n",
    "PERPlayer -r-|> IPDPlayer\n",
    "AllCPlayer -r-|> PERPlayer\n",
    "AllDPlayer -r-|> PERPlayer\n",
    "PCCDPlayer -r-|> PERPlayer\n",
    "PDDCPlayer -r-|> PERPlayer\n",
    "@enduml"
   ]
  },
  {
   "cell_type": "code",
   "execution_count": null,
   "metadata": {
    "collapsed": true
   },
   "outputs": [],
   "source": [
    "# %load -s PCCDPlayer,PDDCPlayer pd.py\n",
    "class PCCDPlayer(PERPlayer):\n",
    "\n",
    "    \"\"\"\n",
    "    Periodic Player with pattern CCD\n",
    "    \"\"\"\n",
    "\n",
    "    def __init__(self):\n",
    "        ccd_pattern = numpy.array([0, 0, 1])\n",
    "        PERPlayer.__init__(self, ccd_pattern, 'PCCD')\n",
    "\n",
    "class PDDCPlayer(PERPlayer):\n",
    "\n",
    "    \"\"\"\n",
    "    Periodic Plauer with pattern DDC\n",
    "    \"\"\"\n",
    "\n",
    "    def __init__(self):\n",
    "        ddc_pattern = numpy.array([1, 1, 0])\n",
    "        PERPlayer.__init__(self, ddc_pattern, 'PDDC')\n",
    "\n",
    "# class SHBPlayer(PHBPlayer):\n",
    "\n",
    "#     \"\"\"\n",
    "#     Superrational History Based Player\n",
    "\n",
    "#     Tries to predict the opponent move based on its history and\n",
    "#     then tries to maximise the collective payoff. Using exponential smoothing\n",
    "\n",
    "#     Starts by being cooperative\n",
    "#     \"\"\"\n",
    "\n",
    "#     def __init__(self, history_length=None, alpha=0.6):\n",
    "#         \"\"\"\n",
    "#         WRITEME\n",
    "#         \"\"\"\n",
    "#         HBPlayer.__init__(self, 0, history_length, 'SHB')\n",
    "#         self._alpha = alpha\n",
    "\n",
    "#     def act(self, game, iter):\n",
    "#         #\n",
    "#         # apply default policy\n",
    "#         if iter == 0:\n",
    "#             return self._default_policy\n",
    "\n",
    "#         #\n",
    "#         # get history\n",
    "#         adv_action_history = self._get_history(game, iter)\n",
    "#         adv_id = 1 - self._ingame_id\n",
    "#         adv_next = self._predict_next(adv_action_history)\n",
    "\n",
    "#         strategy = None\n",
    "#         if adv_id == 1:\n",
    "#             strategy = game.payoffs()[:, adv_next, :].sum(axis=1)\n",
    "#         elif adv_id == 0:\n",
    "#             strategy = game.payoffs()[adv_next, :, :].sum(axis=1)\n",
    "\n",
    "#         # print('strategy', strategy)\n",
    "#         # print('payoffs', game.payoffs(),\n",
    "#         #       adv_action_history, adv_next, self._ingame_id, strategy, numpy.argmax(strategy\n",
    "#         #                                                                                 ))\n",
    "#         return numpy.argmax(strategy)\n"
   ]
  },
  {
   "cell_type": "markdown",
   "metadata": {},
   "source": [
    "##Where is the emergence?"
   ]
  },
  {
   "cell_type": "code",
   "execution_count": null,
   "metadata": {
    "collapsed": true
   },
   "outputs": [],
   "source": []
  }
 ],
 "metadata": {
  "kernelspec": {
   "display_name": "Python 3",
   "language": "python",
   "name": "python3"
  },
  "language_info": {
   "codemirror_mode": {
    "name": "ipython",
    "version": 3
   },
   "file_extension": ".py",
   "mimetype": "text/x-python",
   "name": "python",
   "nbconvert_exporter": "python",
   "pygments_lexer": "ipython3",
   "version": "3.4.0"
  }
 },
 "nbformat": 4,
 "nbformat_minor": 0
}
