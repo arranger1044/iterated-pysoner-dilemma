{
 "cells": [
  {
   "cell_type": "markdown",
   "metadata": {},
   "source": [
    "#Simulating EES with the Iterated Prisoner's Dilemma\n",
    "This work..."
   ]
  },
  {
   "cell_type": "markdown",
   "metadata": {},
   "source": [
    "## Requirements\n",
    "PlantUML for showing uml diagrams"
   ]
  },
  {
   "cell_type": "code",
   "execution_count": 16,
   "metadata": {
    "collapsed": false
   },
   "outputs": [
    {
     "name": "stdout",
     "output_type": "stream",
     "text": [
      "Installed plantuml_magics.py. To use it, type:\n",
      "  %load_ext plantuml_magics\n",
      "The plantuml_magics extension is already loaded. To reload it, use:\n",
      "  %reload_ext plantuml_magics\n"
     ]
    },
    {
     "data": {
      "text/plain": [
       "['./plantuml.jar']"
      ]
     },
     "execution_count": 16,
     "metadata": {},
     "output_type": "execute_result"
    }
   ],
   "source": [
    "# PlantUML setup\n",
    "%install_ext https://gist.githubusercontent.com/sberke/7360a4b7aa79aefccbb0/raw/f19a8910c847421977daa7a8c893bb7d77aa78b5/plantuml_magics.py\n",
    "%load_ext plantuml_magics\n",
    "\n",
    "import glob\n",
    "glob.glob(r'./*.jar')"
   ]
  },
  {
   "cell_type": "code",
   "execution_count": 6,
   "metadata": {
    "collapsed": true
   },
   "outputs": [],
   "source": [
    "from IPython.display import display, HTML"
   ]
  },
  {
   "cell_type": "markdown",
   "metadata": {},
   "source": [
    "## Prisoner's Dilemma\n",
    "\n",
    "What is the _**Prisoner's Dilemma**_ (**PD**)\n",
    " <table style=\"width:200px\">\n",
    "  <tr>\n",
    "    <td></td>\n",
    "    <td><strong>C</strong></td>\n",
    "    <td><strong>D</strong></td>\n",
    "  </tr>\n",
    "  <tr>\n",
    "    <td><strong>C</strong></td>\n",
    "    <td><em>R,R</em></td>\n",
    "    <td><em>S,T</em></td>\n",
    "  </tr>\n",
    "  <tr>\n",
    "    <td><strong>D</strong></td>\n",
    "    <td><em>T,S</em></td>\n",
    "    <td><em>P,P</em></td>\n",
    "  </tr>\n",
    "</table> "
   ]
  },
  {
   "cell_type": "markdown",
   "metadata": {},
   "source": [
    "##Iterated Prisoner's Dilemma\n",
    "What is the _**Iterated Prisoner's Dilemma**_ (IPD)"
   ]
  },
  {
   "cell_type": "markdown",
   "metadata": {},
   "source": [
    "###Axelrod's 1979 tournament\n"
   ]
  },
  {
   "cell_type": "markdown",
   "metadata": {
    "collapsed": false
   },
   "source": [
    "###Axelrod's 1982 tournament"
   ]
  },
  {
   "cell_type": "markdown",
   "metadata": {},
   "source": [
    "##Modeling"
   ]
  },
  {
   "cell_type": "code",
   "execution_count": 40,
   "metadata": {
    "collapsed": false
   },
   "outputs": [
    {
     "data": {
      "image/svg+xml": [
       "<svg height=\"461px\" style=\"width:246px;height:461px;\" version=\"1.1\" viewBox=\"0 0 246 461\" width=\"246px\" xmlns=\"http://www.w3.org/2000/svg\" xmlns:xlink=\"http://www.w3.org/1999/xlink\"><defs><filter height=\"300%\" id=\"f1\" width=\"300%\" x=\"-1\" y=\"-1\"><feGaussianBlur result=\"blurOut\" stdDeviation=\"2.0\"/><feColorMatrix in=\"blurOut\" result=\"blurOut2\" type=\"matrix\" values=\"0 0 0 0 0 0 0 0 0 0 0 0 0 0 0 0 0 0 .4 0\"/><feOffset dx=\"4.0\" dy=\"4.0\" in=\"blurOut2\" result=\"blurOut3\"/><feBlend in=\"SourceGraphic\" in2=\"blurOut3\" mode=\"normal\"/></filter></defs><g><rect fill=\"#FEFECE\" filter=\"url(#f1)\" height=\"99.2188\" style=\"stroke: #A80036; stroke-width: 1.5;\" width=\"110\" x=\"93.25\" y=\"8.5\"/><ellipse cx=\"117.25\" cy=\"24.5\" fill=\"#ADD1B2\" rx=\"11\" ry=\"11\" style=\"stroke: #A80036; stroke-width: 1.0;\"/><path d=\"M120.2188,30.1406 Q119.6406,30.4375 119,30.5859 Q118.3594,30.7344 117.6563,30.7344 Q115.1563,30.7344 113.8359,29.0859 Q112.5156,27.4375 112.5156,24.3125 Q112.5156,21.1875 113.8359,19.5313 Q115.1563,17.875 117.6563,17.875 Q118.3594,17.875 119.0078,18.0313 Q119.6563,18.1875 120.2188,18.4844 L120.2188,21.2031 Q119.5938,20.625 119,20.3516 Q118.4063,20.0781 117.7813,20.0781 Q116.4375,20.0781 115.75,21.1484 Q115.0625,22.2188 115.0625,24.3125 Q115.0625,26.4063 115.75,27.4766 Q116.4375,28.5469 117.7813,28.5469 Q118.4063,28.5469 119,28.2734 Q119.5938,28 120.2188,27.4219 L120.2188,30.1406 Z \"/><text fill=\"#000000\" font-family=\"sans-serif\" font-size=\"12\" lengthAdjust=\"spacingAndGlyphs\" textLength=\"58\" x=\"133.25\" y=\"28.6543\">IPDPlayer</text><line style=\"stroke: #A80036; stroke-width: 1.5;\" x1=\"94.25\" x2=\"202.25\" y1=\"40.5\" y2=\"40.5\"/><ellipse cx=\"104.25\" cy=\"52.4023\" fill=\"none\" rx=\"3\" ry=\"3\" style=\"stroke: #038048; stroke-width: 1.0;\"/><text fill=\"#000000\" font-family=\"sans-serif\" font-size=\"11\" lengthAdjust=\"spacingAndGlyphs\" textLength=\"10\" x=\"113.25\" y=\"54.7104\">id</text><rect fill=\"none\" height=\"6\" style=\"stroke: #C82930; stroke-width: 1.0;\" width=\"6\" x=\"101.25\" y=\"62.207\"/><text fill=\"#000000\" font-family=\"sans-serif\" font-size=\"11\" lengthAdjust=\"spacingAndGlyphs\" textLength=\"30\" x=\"113.25\" y=\"67.5151\">_type</text><rect fill=\"none\" height=\"6\" style=\"stroke: #C82930; stroke-width: 1.0;\" width=\"6\" x=\"101.25\" y=\"75.0117\"/><text fill=\"#000000\" font-family=\"sans-serif\" font-size=\"11\" lengthAdjust=\"spacingAndGlyphs\" textLength=\"64\" x=\"113.25\" y=\"80.3198\">_ingame_id</text><line style=\"stroke: #A80036; stroke-width: 1.0;\" x1=\"94.25\" x2=\"202.25\" y1=\"86.9141\" y2=\"86.9141\"/><ellipse cx=\"104.25\" cy=\"98.8164\" fill=\"#84BE84\" rx=\"3\" ry=\"3\" style=\"stroke: #038048; stroke-width: 1.0;\"/><text fill=\"#000000\" font-family=\"sans-serif\" font-size=\"11\" lengthAdjust=\"spacingAndGlyphs\" textLength=\"84\" x=\"113.25\" y=\"101.1245\">act(game, iter)</text><rect fill=\"#FEFECE\" filter=\"url(#f1)\" height=\"137.6328\" style=\"stroke: #A80036; stroke-width: 1.5;\" width=\"155\" x=\"6\" y=\"168\"/><ellipse cx=\"51.25\" cy=\"184\" fill=\"#ADD1B2\" rx=\"11\" ry=\"11\" style=\"stroke: #A80036; stroke-width: 1.0;\"/><path d=\"M54.2188,189.6406 Q53.6406,189.9375 53,190.0859 Q52.3594,190.2344 51.6563,190.2344 Q49.1563,190.2344 47.8359,188.5859 Q46.5156,186.9375 46.5156,183.8125 Q46.5156,180.6875 47.8359,179.0313 Q49.1563,177.375 51.6563,177.375 Q52.3594,177.375 53.0078,177.5313 Q53.6563,177.6875 54.2188,177.9844 L54.2188,180.7031 Q53.5938,180.125 53,179.8516 Q52.4063,179.5781 51.7813,179.5781 Q50.4375,179.5781 49.75,180.6484 Q49.0625,181.7188 49.0625,183.8125 Q49.0625,185.9063 49.75,186.9766 Q50.4375,188.0469 51.7813,188.0469 Q52.4063,188.0469 53,187.7734 Q53.5938,187.5 54.2188,186.9219 L54.2188,189.6406 Z \"/><text fill=\"#000000\" font-family=\"sans-serif\" font-size=\"12\" lengthAdjust=\"spacingAndGlyphs\" textLength=\"56\" x=\"71.75\" y=\"188.1543\">IPDGame</text><line style=\"stroke: #A80036; stroke-width: 1.5;\" x1=\"7\" x2=\"160\" y1=\"200\" y2=\"200\"/><rect fill=\"none\" height=\"6\" style=\"stroke: #C82930; stroke-width: 1.0;\" width=\"6\" x=\"14\" y=\"208.9023\"/><text fill=\"#000000\" font-family=\"sans-serif\" font-size=\"11\" lengthAdjust=\"spacingAndGlyphs\" textLength=\"48\" x=\"26\" y=\"214.2104\">_payoffs</text><rect fill=\"none\" height=\"6\" style=\"stroke: #C82930; stroke-width: 1.0;\" width=\"6\" x=\"14\" y=\"221.707\"/><text fill=\"#000000\" font-family=\"sans-serif\" font-size=\"11\" lengthAdjust=\"spacingAndGlyphs\" textLength=\"48\" x=\"26\" y=\"227.0151\">_players</text><ellipse cx=\"17\" cy=\"237.5117\" fill=\"none\" rx=\"3\" ry=\"3\" style=\"stroke: #038048; stroke-width: 1.0;\"/><text fill=\"#000000\" font-family=\"sans-serif\" font-size=\"11\" lengthAdjust=\"spacingAndGlyphs\" textLength=\"41\" x=\"26\" y=\"239.8198\">actions</text><ellipse cx=\"17\" cy=\"250.3164\" fill=\"none\" rx=\"3\" ry=\"3\" style=\"stroke: #038048; stroke-width: 1.0;\"/><text fill=\"#000000\" font-family=\"sans-serif\" font-size=\"11\" lengthAdjust=\"spacingAndGlyphs\" textLength=\"47\" x=\"26\" y=\"252.6245\">rewards</text><line style=\"stroke: #A80036; stroke-width: 1.0;\" x1=\"7\" x2=\"160\" y1=\"259.2188\" y2=\"259.2188\"/><ellipse cx=\"17\" cy=\"271.1211\" fill=\"#84BE84\" rx=\"3\" ry=\"3\" style=\"stroke: #038048; stroke-width: 1.0;\"/><text fill=\"#000000\" font-family=\"sans-serif\" font-size=\"11\" lengthAdjust=\"spacingAndGlyphs\" textLength=\"50\" x=\"26\" y=\"273.4292\">payoffs()</text><ellipse cx=\"17\" cy=\"283.9258\" fill=\"#84BE84\" rx=\"3\" ry=\"3\" style=\"stroke: #038048; stroke-width: 1.0;\"/><text fill=\"#000000\" font-family=\"sans-serif\" font-size=\"11\" lengthAdjust=\"spacingAndGlyphs\" textLength=\"129\" x=\"26\" y=\"286.2339\">get_actions(start, end)</text><ellipse cx=\"17\" cy=\"296.7305\" fill=\"#84BE84\" rx=\"3\" ry=\"3\" style=\"stroke: #038048; stroke-width: 1.0;\"/><text fill=\"#000000\" font-family=\"sans-serif\" font-size=\"11\" lengthAdjust=\"spacingAndGlyphs\" textLength=\"83\" x=\"26\" y=\"299.0386\">simulate(iters)</text><rect fill=\"#FEFECE\" filter=\"url(#f1)\" height=\"86.4141\" style=\"stroke: #A80036; stroke-width: 1.5;\" width=\"178\" x=\"59.75\" y=\"366\"/><ellipse cx=\"74.75\" cy=\"382\" fill=\"#ADD1B2\" rx=\"11\" ry=\"11\" style=\"stroke: #A80036; stroke-width: 1.0;\"/><path d=\"M77.7188,387.6406 Q77.1406,387.9375 76.5,388.0859 Q75.8594,388.2344 75.1563,388.2344 Q72.6563,388.2344 71.3359,386.5859 Q70.0156,384.9375 70.0156,381.8125 Q70.0156,378.6875 71.3359,377.0313 Q72.6563,375.375 75.1563,375.375 Q75.8594,375.375 76.5078,375.5313 Q77.1563,375.6875 77.7188,375.9844 L77.7188,378.7031 Q77.0938,378.125 76.5,377.8516 Q75.9063,377.5781 75.2813,377.5781 Q73.9375,377.5781 73.25,378.6484 Q72.5625,379.7188 72.5625,381.8125 Q72.5625,383.9063 73.25,384.9766 Q73.9375,386.0469 75.2813,386.0469 Q75.9063,386.0469 76.5,385.7734 Q77.0938,385.5 77.7188,384.9219 L77.7188,387.6406 Z \"/><text fill=\"#000000\" font-family=\"sans-serif\" font-size=\"12\" lengthAdjust=\"spacingAndGlyphs\" textLength=\"146\" x=\"88.75\" y=\"386.1543\">IPDPairwiseCompetition</text><line style=\"stroke: #A80036; stroke-width: 1.5;\" x1=\"60.75\" x2=\"236.75\" y1=\"398\" y2=\"398\"/><rect fill=\"none\" height=\"6\" style=\"stroke: #C82930; stroke-width: 1.0;\" width=\"6\" x=\"67.75\" y=\"406.9023\"/><text fill=\"#000000\" font-family=\"sans-serif\" font-size=\"11\" lengthAdjust=\"spacingAndGlyphs\" textLength=\"48\" x=\"79.75\" y=\"412.2104\">_payoffs</text><rect fill=\"none\" height=\"6\" style=\"stroke: #C82930; stroke-width: 1.0;\" width=\"6\" x=\"67.75\" y=\"419.707\"/><text fill=\"#000000\" font-family=\"sans-serif\" font-size=\"11\" lengthAdjust=\"spacingAndGlyphs\" textLength=\"48\" x=\"79.75\" y=\"425.0151\">_players</text><line style=\"stroke: #A80036; stroke-width: 1.0;\" x1=\"60.75\" x2=\"236.75\" y1=\"431.6094\" y2=\"431.6094\"/><ellipse cx=\"70.75\" cy=\"443.5117\" fill=\"#84BE84\" rx=\"3\" ry=\"3\" style=\"stroke: #038048; stroke-width: 1.0;\"/><text fill=\"#000000\" font-family=\"sans-serif\" font-size=\"11\" lengthAdjust=\"spacingAndGlyphs\" textLength=\"83\" x=\"79.75\" y=\"445.8198\">simulate(iters)</text><path d=\"M125.716,120.363 C120.095,135.667 114.035,152.171 108.301,167.784 \" fill=\"none\" style=\"stroke: #A80036; stroke-width: 1.0;\"/><polygon fill=\"#A80036\" points=\"130.316,107.835,124.4928,112.0883,126.1792,119.0994,132.0024,114.8461,130.316,107.835\" style=\"stroke: #A80036; stroke-width: 1.0;\"/><text fill=\"#000000\" font-family=\"sans-serif\" font-size=\"13\" lengthAdjust=\"spacingAndGlyphs\" textLength=\"8\" x=\"118.0909\" y=\"127.9586\">2</text><text fill=\"#000000\" font-family=\"sans-serif\" font-size=\"13\" lengthAdjust=\"spacingAndGlyphs\" textLength=\"23\" x=\"85.3968\" y=\"156.9516\">1..*</text><path d=\"M109.313,306.166 C117.013,326.303 125.215,347.754 132.095,365.7489 \" fill=\"none\" style=\"stroke: #A80036; stroke-width: 1.0;\"/><text fill=\"#000000\" font-family=\"sans-serif\" font-size=\"13\" lengthAdjust=\"spacingAndGlyphs\" textLength=\"23\" x=\"86.624\" y=\"325.8043\">1..*</text><text fill=\"#000000\" font-family=\"sans-serif\" font-size=\"13\" lengthAdjust=\"spacingAndGlyphs\" textLength=\"8\" x=\"120.1851\" y=\"354.843\">1</text><path d=\"M163.569,365.923 C169.41,347.755 175.356,326.097 178.25,306 C186.992,245.293 186.462,228.781 178.25,168 C176.125,152.272 172.35,135.606 168.178,120.162 \" fill=\"none\" style=\"stroke: #A80036; stroke-width: 1.0;\"/><polygon fill=\"#A80036\" points=\"164.609,107.525,162.3909,114.3865,167.8715,119.073,170.0896,112.2115,164.609,107.525\" style=\"stroke: #A80036; stroke-width: 1.0;\"/><text fill=\"#000000\" font-family=\"sans-serif\" font-size=\"13\" lengthAdjust=\"spacingAndGlyphs\" textLength=\"23\" x=\"139.8806\" y=\"355.0403\">1..*</text><text fill=\"#000000\" font-family=\"sans-serif\" font-size=\"13\" lengthAdjust=\"spacingAndGlyphs\" textLength=\"23\" x=\"141.1758\" y=\"127.9611\">2..*</text></g></svg>"
      ],
      "text/plain": [
       "<IPython.core.display.SVG object>"
      ]
     },
     "execution_count": 40,
     "metadata": {},
     "output_type": "execute_result"
    }
   ],
   "source": [
    "%%plantuml uml/class-diagram-1\n",
    "\n",
    "@startuml\n",
    "class IPDPlayer{\n",
    "    +id\n",
    "    -_type\n",
    "    -_ingame_id\n",
    "    --\n",
    "    +act(game, iter)\n",
    "}\n",
    "class IPDGame{\n",
    "    -_payoffs\n",
    "    -_players\n",
    "    +actions\n",
    "    +rewards\n",
    "    --\n",
    "    +payoffs()\n",
    "    +get_actions(start, end)\n",
    "    +simulate(iters)\n",
    "}\n",
    "class IPDPairwiseCompetition{\n",
    "    -_payoffs\n",
    "    -_players\n",
    "    --\n",
    "    +simulate(iters)\n",
    "}\n",
    "IPDPlayer \"2\" *-- \"1..*\" IPDGame\n",
    "IPDGame \"1..*\" -- \"1\" IPDPairwiseCompetition\n",
    "IPDPairwiseCompetition \"1..*\" --* \"2..*\" IPDPlayer\n",
    "@enduml "
   ]
  },
  {
   "cell_type": "code",
   "execution_count": 39,
   "metadata": {
    "collapsed": false
   },
   "outputs": [
    {
     "data": {
      "image/svg+xml": [
       "<svg height=\"461px\" style=\"width:638px;height:461px;\" version=\"1.1\" viewBox=\"0 0 638 461\" width=\"638px\" xmlns=\"http://www.w3.org/2000/svg\" xmlns:xlink=\"http://www.w3.org/1999/xlink\"><defs><filter height=\"300%\" id=\"f1\" width=\"300%\" x=\"-1\" y=\"-1\"><feGaussianBlur result=\"blurOut\" stdDeviation=\"2.0\"/><feColorMatrix in=\"blurOut\" result=\"blurOut2\" type=\"matrix\" values=\"0 0 0 0 0 0 0 0 0 0 0 0 0 0 0 0 0 0 .4 0\"/><feOffset dx=\"4.0\" dy=\"4.0\" in=\"blurOut2\" result=\"blurOut3\"/><feBlend in=\"SourceGraphic\" in2=\"blurOut3\" mode=\"normal\"/></filter></defs><g><rect fill=\"#FFFFFF\" filter=\"url(#f1)\" height=\"175.7969\" style=\"stroke: #000000; stroke-width: 2.0;\" width=\"440.5\" x=\"189\" y=\"200.9609\"/><line style=\"stroke: #A80036; stroke-width: 1.0; stroke-dasharray: 5.0,5.0;\" x1=\"98\" x2=\"98\" y1=\"38.2969\" y2=\"422.8906\"/><line style=\"stroke: #A80036; stroke-width: 1.0; stroke-dasharray: 5.0,5.0;\" x1=\"244\" x2=\"244\" y1=\"38.2969\" y2=\"422.8906\"/><line style=\"stroke: #A80036; stroke-width: 1.0; stroke-dasharray: 5.0,5.0;\" x1=\"345\" x2=\"345\" y1=\"38.2969\" y2=\"422.8906\"/><line style=\"stroke: #A80036; stroke-width: 1.0; stroke-dasharray: 5.0,5.0;\" x1=\"480.5\" x2=\"480.5\" y1=\"38.2969\" y2=\"422.8906\"/><rect fill=\"#FEFECE\" filter=\"url(#f1)\" height=\"30.2969\" style=\"stroke: #A80036; stroke-width: 1.5;\" width=\"177\" x=\"8\" y=\"3\"/><text fill=\"#000000\" font-family=\"sans-serif\" font-size=\"14\" lengthAdjust=\"spacingAndGlyphs\" textLength=\"163\" x=\"15\" y=\"22.9951\">IPDPairwiseCompetition</text><rect fill=\"#FEFECE\" filter=\"url(#f1)\" height=\"30.2969\" style=\"stroke: #A80036; stroke-width: 1.5;\" width=\"177\" x=\"8\" y=\"421.8906\"/><text fill=\"#000000\" font-family=\"sans-serif\" font-size=\"14\" lengthAdjust=\"spacingAndGlyphs\" textLength=\"163\" x=\"15\" y=\"441.8857\">IPDPairwiseCompetition</text><rect fill=\"#FEFECE\" filter=\"url(#f1)\" height=\"30.2969\" style=\"stroke: #A80036; stroke-width: 1.5;\" width=\"87\" x=\"199\" y=\"3\"/><text fill=\"#000000\" font-family=\"sans-serif\" font-size=\"14\" lengthAdjust=\"spacingAndGlyphs\" textLength=\"73\" x=\"206\" y=\"22.9951\">IPDPlayer1</text><rect fill=\"#FEFECE\" filter=\"url(#f1)\" height=\"30.2969\" style=\"stroke: #A80036; stroke-width: 1.5;\" width=\"87\" x=\"199\" y=\"421.8906\"/><text fill=\"#000000\" font-family=\"sans-serif\" font-size=\"14\" lengthAdjust=\"spacingAndGlyphs\" textLength=\"73\" x=\"206\" y=\"441.8857\">IPDPlayer1</text><rect fill=\"#FEFECE\" filter=\"url(#f1)\" height=\"30.2969\" style=\"stroke: #A80036; stroke-width: 1.5;\" width=\"87\" x=\"300\" y=\"3\"/><text fill=\"#000000\" font-family=\"sans-serif\" font-size=\"14\" lengthAdjust=\"spacingAndGlyphs\" textLength=\"73\" x=\"307\" y=\"22.9951\">IPDPlayer2</text><rect fill=\"#FEFECE\" filter=\"url(#f1)\" height=\"30.2969\" style=\"stroke: #A80036; stroke-width: 1.5;\" width=\"87\" x=\"300\" y=\"421.8906\"/><text fill=\"#000000\" font-family=\"sans-serif\" font-size=\"14\" lengthAdjust=\"spacingAndGlyphs\" textLength=\"73\" x=\"307\" y=\"441.8857\">IPDPlayer2</text><rect fill=\"#FEFECE\" filter=\"url(#f1)\" height=\"30.2969\" style=\"stroke: #A80036; stroke-width: 1.5;\" width=\"78\" x=\"439.5\" y=\"3\"/><text fill=\"#000000\" font-family=\"sans-serif\" font-size=\"14\" lengthAdjust=\"spacingAndGlyphs\" textLength=\"64\" x=\"446.5\" y=\"22.9951\">IPDGame</text><rect fill=\"#FEFECE\" filter=\"url(#f1)\" height=\"30.2969\" style=\"stroke: #A80036; stroke-width: 1.5;\" width=\"78\" x=\"439.5\" y=\"421.8906\"/><text fill=\"#000000\" font-family=\"sans-serif\" font-size=\"14\" lengthAdjust=\"spacingAndGlyphs\" textLength=\"64\" x=\"446.5\" y=\"441.8857\">IPDGame</text><polygon fill=\"#A80036\" points=\"232.5,65.2969,242.5,69.2969,232.5,73.2969,236.5,69.2969\" style=\"stroke: #A80036; stroke-width: 1.0;\"/><line style=\"stroke: #A80036; stroke-width: 1.0;\" x1=\"98.5\" x2=\"238.5\" y1=\"69.2969\" y2=\"69.2969\"/><text fill=\"#000000\" font-family=\"sans-serif\" font-size=\"13\" lengthAdjust=\"spacingAndGlyphs\" textLength=\"38\" x=\"105.5\" y=\"64.3638\">select</text><polygon fill=\"#A80036\" points=\"333.5,94.4297,343.5,98.4297,333.5,102.4297,337.5,98.4297\" style=\"stroke: #A80036; stroke-width: 1.0;\"/><line style=\"stroke: #A80036; stroke-width: 1.0;\" x1=\"98.5\" x2=\"339.5\" y1=\"98.4297\" y2=\"98.4297\"/><text fill=\"#000000\" font-family=\"sans-serif\" font-size=\"13\" lengthAdjust=\"spacingAndGlyphs\" textLength=\"38\" x=\"105.5\" y=\"93.4966\">select</text><polygon fill=\"#A80036\" points=\"468.5,123.5625,478.5,127.5625,468.5,131.5625,472.5,127.5625\" style=\"stroke: #A80036; stroke-width: 1.0;\"/><line style=\"stroke: #A80036; stroke-width: 1.0;\" x1=\"98.5\" x2=\"474.5\" y1=\"127.5625\" y2=\"127.5625\"/><text fill=\"#000000\" font-family=\"sans-serif\" font-size=\"13\" lengthAdjust=\"spacingAndGlyphs\" text-decoration=\"underline\" textLength=\"19\" x=\"105.5\" y=\"122.6294\">init</text><line style=\"stroke: #000000; stroke-width: 1.0;\" x1=\"105.5\" x2=\"124.5\" y1=\"124.6294\" y2=\"124.6294\"/><text fill=\"#000000\" font-family=\"sans-serif\" font-size=\"13\" lengthAdjust=\"spacingAndGlyphs\" textLength=\"10\" x=\"124.5\" y=\"122.6294\">()</text><polygon fill=\"#A80036\" points=\"255.5,152.6953,245.5,156.6953,255.5,160.6953,251.5,156.6953\" style=\"stroke: #A80036; stroke-width: 1.0;\"/><line style=\"stroke: #A80036; stroke-width: 1.0;\" x1=\"249.5\" x2=\"479.5\" y1=\"156.6953\" y2=\"156.6953\"/><text fill=\"#000000\" font-family=\"sans-serif\" font-size=\"13\" lengthAdjust=\"spacingAndGlyphs\" textLength=\"111\" x=\"261.5\" y=\"151.7622\">set_ingame_id(0)</text><polygon fill=\"#A80036\" points=\"356.5,181.8281,346.5,185.8281,356.5,189.8281,352.5,185.8281\" style=\"stroke: #A80036; stroke-width: 1.0;\"/><line style=\"stroke: #A80036; stroke-width: 1.0;\" x1=\"350.5\" x2=\"479.5\" y1=\"185.8281\" y2=\"185.8281\"/><text fill=\"#000000\" font-family=\"sans-serif\" font-size=\"13\" lengthAdjust=\"spacingAndGlyphs\" textLength=\"111\" x=\"362.5\" y=\"180.895\">set_ingame_id(1)</text><rect fill=\"none\" height=\"175.7969\" style=\"stroke: #000000; stroke-width: 2.0;\" width=\"440.5\" x=\"189\" y=\"200.9609\"/><polygon fill=\"#EEEEEE\" points=\"189,200.9609,266,200.9609,266,207.9609,256,217.9609,189,217.9609,189,200.9609\" style=\"stroke: #000000; stroke-width: 2.0;\"/><text fill=\"#000000\" font-family=\"sans-serif\" font-size=\"13\" font-weight=\"bold\" lengthAdjust=\"spacingAndGlyphs\" textLength=\"32\" x=\"204\" y=\"214.0278\">loop</text><text fill=\"#000000\" font-family=\"sans-serif\" font-size=\"11\" font-weight=\"bold\" lengthAdjust=\"spacingAndGlyphs\" textLength=\"61\" x=\"281\" y=\"213.1714\">[i:n_iters]</text><polygon fill=\"#A80036\" points=\"255.5,235.0938,245.5,239.0938,255.5,243.0938,251.5,239.0938\" style=\"stroke: #A80036; stroke-width: 1.0;\"/><line style=\"stroke: #A80036; stroke-width: 1.0;\" x1=\"249.5\" x2=\"479.5\" y1=\"239.0938\" y2=\"239.0938\"/><text fill=\"#000000\" font-family=\"sans-serif\" font-size=\"13\" lengthAdjust=\"spacingAndGlyphs\" textLength=\"63\" x=\"261.5\" y=\"234.1606\">act(self, i)</text><polygon fill=\"#A80036\" points=\"468.5,264.2266,478.5,268.2266,468.5,272.2266,472.5,268.2266\" style=\"stroke: #A80036; stroke-width: 1.0;\"/><line style=\"stroke: #A80036; stroke-width: 1.0; stroke-dasharray: 2.0,2.0;\" x1=\"244.5\" x2=\"474.5\" y1=\"268.2266\" y2=\"268.2266\"/><text fill=\"#000000\" font-family=\"sans-serif\" font-size=\"13\" lengthAdjust=\"spacingAndGlyphs\" textLength=\"39\" x=\"251.5\" y=\"263.2935\">action</text><polygon fill=\"#A80036\" points=\"356.5,293.3594,346.5,297.3594,356.5,301.3594,352.5,297.3594\" style=\"stroke: #A80036; stroke-width: 1.0;\"/><line style=\"stroke: #A80036; stroke-width: 1.0;\" x1=\"350.5\" x2=\"479.5\" y1=\"297.3594\" y2=\"297.3594\"/><text fill=\"#000000\" font-family=\"sans-serif\" font-size=\"13\" lengthAdjust=\"spacingAndGlyphs\" textLength=\"63\" x=\"362.5\" y=\"292.4263\">act(self, i)</text><polygon fill=\"#A80036\" points=\"468.5,322.4922,478.5,326.4922,468.5,330.4922,472.5,326.4922\" style=\"stroke: #A80036; stroke-width: 1.0;\"/><line style=\"stroke: #A80036; stroke-width: 1.0; stroke-dasharray: 2.0,2.0;\" x1=\"345.5\" x2=\"474.5\" y1=\"326.4922\" y2=\"326.4922\"/><text fill=\"#000000\" font-family=\"sans-serif\" font-size=\"13\" lengthAdjust=\"spacingAndGlyphs\" textLength=\"39\" x=\"352.5\" y=\"321.5591\">action</text><line style=\"stroke: #A80036; stroke-width: 1.0;\" x1=\"480.5\" x2=\"522.5\" y1=\"355.7578\" y2=\"355.7578\"/><line style=\"stroke: #A80036; stroke-width: 1.0;\" x1=\"522.5\" x2=\"522.5\" y1=\"355.7578\" y2=\"368.7578\"/><line style=\"stroke: #A80036; stroke-width: 1.0;\" x1=\"481.5\" x2=\"522.5\" y1=\"368.7578\" y2=\"368.7578\"/><polygon fill=\"#A80036\" points=\"491.5,364.7578,481.5,368.7578,491.5,372.7578,487.5,368.7578\" style=\"stroke: #A80036; stroke-width: 1.0;\"/><text fill=\"#000000\" font-family=\"sans-serif\" font-size=\"13\" lengthAdjust=\"spacingAndGlyphs\" textLength=\"130\" x=\"487.5\" y=\"350.6919\">_get_payoff(actions)</text><polygon fill=\"#A80036\" points=\"109.5,400.7578,99.5,404.7578,109.5,408.7578,105.5,404.7578\" style=\"stroke: #A80036; stroke-width: 1.0;\"/><line style=\"stroke: #A80036; stroke-width: 1.0; stroke-dasharray: 2.0,2.0;\" x1=\"103.5\" x2=\"479.5\" y1=\"404.7578\" y2=\"404.7578\"/><text fill=\"#000000\" font-family=\"sans-serif\" font-size=\"13\" lengthAdjust=\"spacingAndGlyphs\" textLength=\"104\" x=\"115.5\" y=\"399.8247\">actions, rewards</text></g></svg>"
      ],
      "text/plain": [
       "<IPython.core.display.SVG object>"
      ]
     },
     "execution_count": 39,
     "metadata": {},
     "output_type": "execute_result"
    }
   ],
   "source": [
    "%%plantuml uml/sequence-competition\n",
    "\n",
    "@startuml\n",
    "IPDPairwiseCompetition -> IPDPlayer1: select\n",
    "IPDPairwiseCompetition -> IPDPlayer2: select\n",
    "IPDPairwiseCompetition -> IPDGame: __init__()\n",
    "IPDGame -> IPDPlayer1: set_ingame_id(0)\n",
    "IPDGame -> IPDPlayer2: set_ingame_id(1)    \n",
    "    loop i:n_iters\n",
    "        IPDGame -> IPDPlayer1: act(self, i)\n",
    "        IPDPlayer1 --> IPDGame: action\n",
    "        IPDGame -> IPDPlayer2: act(self, i)\n",
    "        IPDPlayer2 --> IPDGame: action\n",
    "        IPDGame -> IPDGame: _get_payoff(actions)\n",
    "    end\n",
    "    IPDGame --> IPDPairwiseCompetition: actions, rewards\n",
    "@enduml "
   ]
  },
  {
   "cell_type": "markdown",
   "metadata": {},
   "source": [
    "##Simulating Player types"
   ]
  },
  {
   "cell_type": "markdown",
   "metadata": {},
   "source": [
    "##Where is the emergence?"
   ]
  },
  {
   "cell_type": "code",
   "execution_count": null,
   "metadata": {
    "collapsed": true
   },
   "outputs": [],
   "source": []
  }
 ],
 "metadata": {
  "kernelspec": {
   "display_name": "Python 3",
   "language": "python",
   "name": "python3"
  },
  "language_info": {
   "codemirror_mode": {
    "name": "ipython",
    "version": 3
   },
   "file_extension": ".py",
   "mimetype": "text/x-python",
   "name": "python",
   "nbconvert_exporter": "python",
   "pygments_lexer": "ipython3",
   "version": "3.4.0"
  }
 },
 "nbformat": 4,
 "nbformat_minor": 0
}
